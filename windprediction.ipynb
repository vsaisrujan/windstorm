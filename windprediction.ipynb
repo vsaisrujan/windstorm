{
 "cells": [
  {
   "cell_type": "markdown",
   "metadata": {},
   "source": [
    "# importing os for checking directory"
   ]
  },
  {
   "cell_type": "code",
   "execution_count": 1,
   "metadata": {},
   "outputs": [],
   "source": [
    "import os"
   ]
  },
  {
   "cell_type": "markdown",
   "metadata": {},
   "source": [
    "# importing required packages"
   ]
  },
  {
   "cell_type": "code",
   "execution_count": 3,
   "metadata": {},
   "outputs": [],
   "source": [
    "import pandas as pd\n",
    "import numpy as np\n",
    "import matplotlib.pyplot as plt\n",
    "%matplotlib inline"
   ]
  },
  {
   "cell_type": "markdown",
   "metadata": {},
   "source": [
    "# reading a csv file"
   ]
  },
  {
   "cell_type": "code",
   "execution_count": 4,
   "metadata": {},
   "outputs": [],
   "source": [
    "c1=pd.read_csv(\"windf.csv\")"
   ]
  },
  {
   "cell_type": "markdown",
   "metadata": {},
   "source": [
    "# displaying first five rows"
   ]
  },
  {
   "cell_type": "code",
   "execution_count": 5,
   "metadata": {},
   "outputs": [
    {
     "data": {
      "text/html": [
       "<div>\n",
       "<style scoped>\n",
       "    .dataframe tbody tr th:only-of-type {\n",
       "        vertical-align: middle;\n",
       "    }\n",
       "\n",
       "    .dataframe tbody tr th {\n",
       "        vertical-align: top;\n",
       "    }\n",
       "\n",
       "    .dataframe thead th {\n",
       "        text-align: right;\n",
       "    }\n",
       "</style>\n",
       "<table border=\"1\" class=\"dataframe\">\n",
       "  <thead>\n",
       "    <tr style=\"text-align: right;\">\n",
       "      <th></th>\n",
       "      <th>id</th>\n",
       "      <th>year</th>\n",
       "      <th>month</th>\n",
       "      <th>day</th>\n",
       "      <th>timezone</th>\n",
       "      <th>state</th>\n",
       "      <th>statefipsno</th>\n",
       "      <th>stateno</th>\n",
       "      <th>magnitude</th>\n",
       "      <th>injuries</th>\n",
       "      <th>...</th>\n",
       "      <th>temperature1</th>\n",
       "      <th>temperature2</th>\n",
       "      <th>dewpointtemp1</th>\n",
       "      <th>dewpointtemp2</th>\n",
       "      <th>solarradiation</th>\n",
       "      <th>precipitation</th>\n",
       "      <th>relativehumidity</th>\n",
       "      <th>speed</th>\n",
       "      <th>hours</th>\n",
       "      <th>minutes</th>\n",
       "    </tr>\n",
       "  </thead>\n",
       "  <tbody>\n",
       "    <tr>\n",
       "      <th>0</th>\n",
       "      <td>1</td>\n",
       "      <td>1950</td>\n",
       "      <td>1</td>\n",
       "      <td>3</td>\n",
       "      <td>3</td>\n",
       "      <td>MO</td>\n",
       "      <td>29</td>\n",
       "      <td>1</td>\n",
       "      <td>3</td>\n",
       "      <td>3</td>\n",
       "      <td>...</td>\n",
       "      <td>9.0</td>\n",
       "      <td>9.7</td>\n",
       "      <td>-2.1</td>\n",
       "      <td>-0.4</td>\n",
       "      <td>0.0</td>\n",
       "      <td>0.0</td>\n",
       "      <td>0.45</td>\n",
       "      <td>70</td>\n",
       "      <td>11</td>\n",
       "      <td>0</td>\n",
       "    </tr>\n",
       "    <tr>\n",
       "      <th>1</th>\n",
       "      <td>2</td>\n",
       "      <td>1950</td>\n",
       "      <td>1</td>\n",
       "      <td>3</td>\n",
       "      <td>3</td>\n",
       "      <td>IL</td>\n",
       "      <td>17</td>\n",
       "      <td>2</td>\n",
       "      <td>3</td>\n",
       "      <td>3</td>\n",
       "      <td>...</td>\n",
       "      <td>8.1</td>\n",
       "      <td>9.0</td>\n",
       "      <td>-0.8</td>\n",
       "      <td>0.1</td>\n",
       "      <td>0.0</td>\n",
       "      <td>0.0</td>\n",
       "      <td>0.53</td>\n",
       "      <td>76</td>\n",
       "      <td>11</td>\n",
       "      <td>55</td>\n",
       "    </tr>\n",
       "    <tr>\n",
       "      <th>2</th>\n",
       "      <td>3</td>\n",
       "      <td>1950</td>\n",
       "      <td>1</td>\n",
       "      <td>3</td>\n",
       "      <td>3</td>\n",
       "      <td>OH</td>\n",
       "      <td>39</td>\n",
       "      <td>1</td>\n",
       "      <td>1</td>\n",
       "      <td>1</td>\n",
       "      <td>...</td>\n",
       "      <td>7.2</td>\n",
       "      <td>8.8</td>\n",
       "      <td>-0.7</td>\n",
       "      <td>-0.1</td>\n",
       "      <td>0.0</td>\n",
       "      <td>0.0</td>\n",
       "      <td>0.57</td>\n",
       "      <td>55</td>\n",
       "      <td>16</td>\n",
       "      <td>0</td>\n",
       "    </tr>\n",
       "    <tr>\n",
       "      <th>3</th>\n",
       "      <td>4</td>\n",
       "      <td>1950</td>\n",
       "      <td>1</td>\n",
       "      <td>13</td>\n",
       "      <td>3</td>\n",
       "      <td>AR</td>\n",
       "      <td>5</td>\n",
       "      <td>1</td>\n",
       "      <td>3</td>\n",
       "      <td>1</td>\n",
       "      <td>...</td>\n",
       "      <td>6.6</td>\n",
       "      <td>8.3</td>\n",
       "      <td>-1.0</td>\n",
       "      <td>-0.5</td>\n",
       "      <td>0.0</td>\n",
       "      <td>0.0</td>\n",
       "      <td>0.57</td>\n",
       "      <td>76</td>\n",
       "      <td>5</td>\n",
       "      <td>25</td>\n",
       "    </tr>\n",
       "    <tr>\n",
       "      <th>4</th>\n",
       "      <td>5</td>\n",
       "      <td>1950</td>\n",
       "      <td>1</td>\n",
       "      <td>25</td>\n",
       "      <td>3</td>\n",
       "      <td>MO</td>\n",
       "      <td>29</td>\n",
       "      <td>2</td>\n",
       "      <td>2</td>\n",
       "      <td>5</td>\n",
       "      <td>...</td>\n",
       "      <td>6.2</td>\n",
       "      <td>7.9</td>\n",
       "      <td>-0.6</td>\n",
       "      <td>-0.1</td>\n",
       "      <td>0.0</td>\n",
       "      <td>0.0</td>\n",
       "      <td>0.61</td>\n",
       "      <td>66</td>\n",
       "      <td>19</td>\n",
       "      <td>30</td>\n",
       "    </tr>\n",
       "  </tbody>\n",
       "</table>\n",
       "<p>5 rows × 29 columns</p>\n",
       "</div>"
      ],
      "text/plain": [
       "   id  year  month  day  timezone state  statefipsno  stateno  magnitude  \\\n",
       "0   1  1950      1    3         3    MO           29        1          3   \n",
       "1   2  1950      1    3         3    IL           17        2          3   \n",
       "2   3  1950      1    3         3    OH           39        1          1   \n",
       "3   4  1950      1   13         3    AR            5        1          3   \n",
       "4   5  1950      1   25         3    MO           29        2          2   \n",
       "\n",
       "   injuries   ...     temperature1  temperature2  dewpointtemp1  \\\n",
       "0         3   ...              9.0           9.7           -2.1   \n",
       "1         3   ...              8.1           9.0           -0.8   \n",
       "2         1   ...              7.2           8.8           -0.7   \n",
       "3         1   ...              6.6           8.3           -1.0   \n",
       "4         5   ...              6.2           7.9           -0.6   \n",
       "\n",
       "   dewpointtemp2  solarradiation  precipitation  relativehumidity  speed  \\\n",
       "0           -0.4             0.0            0.0              0.45     70   \n",
       "1            0.1             0.0            0.0              0.53     76   \n",
       "2           -0.1             0.0            0.0              0.57     55   \n",
       "3           -0.5             0.0            0.0              0.57     76   \n",
       "4           -0.1             0.0            0.0              0.61     66   \n",
       "\n",
       "   hours  minutes  \n",
       "0     11        0  \n",
       "1     11       55  \n",
       "2     16        0  \n",
       "3      5       25  \n",
       "4     19       30  \n",
       "\n",
       "[5 rows x 29 columns]"
      ]
     },
     "execution_count": 5,
     "metadata": {},
     "output_type": "execute_result"
    }
   ],
   "source": [
    "c1.head()"
   ]
  },
  {
   "cell_type": "markdown",
   "metadata": {},
   "source": [
    "# Finding number of labels and features"
   ]
  },
  {
   "cell_type": "code",
   "execution_count": 6,
   "metadata": {},
   "outputs": [
    {
     "data": {
      "text/plain": [
       "(99, 29)"
      ]
     },
     "execution_count": 6,
     "metadata": {},
     "output_type": "execute_result"
    }
   ],
   "source": [
    "c1.shape"
   ]
  },
  {
   "cell_type": "code",
   "execution_count": 1700,
   "metadata": {},
   "outputs": [
    {
     "data": {
      "text/html": [
       "<div>\n",
       "<style scoped>\n",
       "    .dataframe tbody tr th:only-of-type {\n",
       "        vertical-align: middle;\n",
       "    }\n",
       "\n",
       "    .dataframe tbody tr th {\n",
       "        vertical-align: top;\n",
       "    }\n",
       "\n",
       "    .dataframe thead th {\n",
       "        text-align: right;\n",
       "    }\n",
       "</style>\n",
       "<table border=\"1\" class=\"dataframe\">\n",
       "  <thead>\n",
       "    <tr style=\"text-align: right;\">\n",
       "      <th></th>\n",
       "      <th>id</th>\n",
       "      <th>year</th>\n",
       "      <th>month</th>\n",
       "      <th>day</th>\n",
       "      <th>timezone</th>\n",
       "      <th>statefipsno</th>\n",
       "      <th>stateno</th>\n",
       "      <th>magnitude</th>\n",
       "      <th>injuries</th>\n",
       "      <th>fatalities</th>\n",
       "      <th>...</th>\n",
       "      <th>temperature1</th>\n",
       "      <th>temperature2</th>\n",
       "      <th>dewpointtemp1</th>\n",
       "      <th>dewpointtemp2</th>\n",
       "      <th>solarradiation</th>\n",
       "      <th>precipitation</th>\n",
       "      <th>relativehumidity</th>\n",
       "      <th>speed</th>\n",
       "      <th>hours</th>\n",
       "      <th>minutes</th>\n",
       "    </tr>\n",
       "  </thead>\n",
       "  <tbody>\n",
       "    <tr>\n",
       "      <th>count</th>\n",
       "      <td>99.000000</td>\n",
       "      <td>99.0</td>\n",
       "      <td>99.000000</td>\n",
       "      <td>99.000000</td>\n",
       "      <td>99.0</td>\n",
       "      <td>99.000000</td>\n",
       "      <td>99.000000</td>\n",
       "      <td>99.000000</td>\n",
       "      <td>99.000000</td>\n",
       "      <td>99.000000</td>\n",
       "      <td>...</td>\n",
       "      <td>99.000000</td>\n",
       "      <td>99.000000</td>\n",
       "      <td>99.000000</td>\n",
       "      <td>99.000000</td>\n",
       "      <td>99.000000</td>\n",
       "      <td>99.000000</td>\n",
       "      <td>99.000000</td>\n",
       "      <td>99.000000</td>\n",
       "      <td>99.000000</td>\n",
       "      <td>99.000000</td>\n",
       "    </tr>\n",
       "    <tr>\n",
       "      <th>mean</th>\n",
       "      <td>50.000000</td>\n",
       "      <td>1950.0</td>\n",
       "      <td>3.535354</td>\n",
       "      <td>13.717172</td>\n",
       "      <td>3.0</td>\n",
       "      <td>28.545455</td>\n",
       "      <td>6.111111</td>\n",
       "      <td>1.757576</td>\n",
       "      <td>3.838384</td>\n",
       "      <td>0.616162</td>\n",
       "      <td>...</td>\n",
       "      <td>5.472727</td>\n",
       "      <td>5.876768</td>\n",
       "      <td>-1.130303</td>\n",
       "      <td>-0.227273</td>\n",
       "      <td>132.100000</td>\n",
       "      <td>0.096970</td>\n",
       "      <td>0.632828</td>\n",
       "      <td>61.828283</td>\n",
       "      <td>13.181818</td>\n",
       "      <td>16.939394</td>\n",
       "    </tr>\n",
       "    <tr>\n",
       "      <th>std</th>\n",
       "      <td>28.722813</td>\n",
       "      <td>0.0</td>\n",
       "      <td>1.350080</td>\n",
       "      <td>9.541574</td>\n",
       "      <td>0.0</td>\n",
       "      <td>14.005300</td>\n",
       "      <td>4.476444</td>\n",
       "      <td>0.858224</td>\n",
       "      <td>9.659200</td>\n",
       "      <td>2.243845</td>\n",
       "      <td>...</td>\n",
       "      <td>3.127228</td>\n",
       "      <td>4.479086</td>\n",
       "      <td>1.614694</td>\n",
       "      <td>1.720217</td>\n",
       "      <td>202.328849</td>\n",
       "      <td>0.420751</td>\n",
       "      <td>0.148551</td>\n",
       "      <td>8.505749</td>\n",
       "      <td>6.716358</td>\n",
       "      <td>16.148430</td>\n",
       "    </tr>\n",
       "    <tr>\n",
       "      <th>min</th>\n",
       "      <td>1.000000</td>\n",
       "      <td>1950.0</td>\n",
       "      <td>1.000000</td>\n",
       "      <td>1.000000</td>\n",
       "      <td>3.0</td>\n",
       "      <td>1.000000</td>\n",
       "      <td>1.000000</td>\n",
       "      <td>0.000000</td>\n",
       "      <td>0.000000</td>\n",
       "      <td>0.000000</td>\n",
       "      <td>...</td>\n",
       "      <td>0.500000</td>\n",
       "      <td>-2.100000</td>\n",
       "      <td>-3.600000</td>\n",
       "      <td>-3.100000</td>\n",
       "      <td>0.000000</td>\n",
       "      <td>0.000000</td>\n",
       "      <td>0.340000</td>\n",
       "      <td>34.000000</td>\n",
       "      <td>0.000000</td>\n",
       "      <td>0.000000</td>\n",
       "    </tr>\n",
       "    <tr>\n",
       "      <th>25%</th>\n",
       "      <td>25.500000</td>\n",
       "      <td>1950.0</td>\n",
       "      <td>2.000000</td>\n",
       "      <td>6.000000</td>\n",
       "      <td>3.0</td>\n",
       "      <td>20.000000</td>\n",
       "      <td>2.000000</td>\n",
       "      <td>1.000000</td>\n",
       "      <td>0.000000</td>\n",
       "      <td>0.000000</td>\n",
       "      <td>...</td>\n",
       "      <td>2.900000</td>\n",
       "      <td>2.500000</td>\n",
       "      <td>-2.600000</td>\n",
       "      <td>-1.600000</td>\n",
       "      <td>0.000000</td>\n",
       "      <td>0.000000</td>\n",
       "      <td>0.550000</td>\n",
       "      <td>58.000000</td>\n",
       "      <td>8.000000</td>\n",
       "      <td>0.000000</td>\n",
       "    </tr>\n",
       "    <tr>\n",
       "      <th>50%</th>\n",
       "      <td>50.000000</td>\n",
       "      <td>1950.0</td>\n",
       "      <td>4.000000</td>\n",
       "      <td>12.000000</td>\n",
       "      <td>3.0</td>\n",
       "      <td>28.000000</td>\n",
       "      <td>5.000000</td>\n",
       "      <td>2.000000</td>\n",
       "      <td>0.000000</td>\n",
       "      <td>0.000000</td>\n",
       "      <td>...</td>\n",
       "      <td>5.200000</td>\n",
       "      <td>6.500000</td>\n",
       "      <td>-1.200000</td>\n",
       "      <td>-0.500000</td>\n",
       "      <td>0.000000</td>\n",
       "      <td>0.000000</td>\n",
       "      <td>0.610000</td>\n",
       "      <td>64.000000</td>\n",
       "      <td>13.000000</td>\n",
       "      <td>15.000000</td>\n",
       "    </tr>\n",
       "    <tr>\n",
       "      <th>75%</th>\n",
       "      <td>74.500000</td>\n",
       "      <td>1950.0</td>\n",
       "      <td>5.000000</td>\n",
       "      <td>26.000000</td>\n",
       "      <td>3.0</td>\n",
       "      <td>40.000000</td>\n",
       "      <td>9.000000</td>\n",
       "      <td>2.000000</td>\n",
       "      <td>3.000000</td>\n",
       "      <td>0.000000</td>\n",
       "      <td>...</td>\n",
       "      <td>7.900000</td>\n",
       "      <td>9.100000</td>\n",
       "      <td>0.150000</td>\n",
       "      <td>1.100000</td>\n",
       "      <td>191.250000</td>\n",
       "      <td>0.000000</td>\n",
       "      <td>0.690000</td>\n",
       "      <td>68.000000</td>\n",
       "      <td>19.000000</td>\n",
       "      <td>30.000000</td>\n",
       "    </tr>\n",
       "    <tr>\n",
       "      <th>max</th>\n",
       "      <td>99.000000</td>\n",
       "      <td>1950.0</td>\n",
       "      <td>5.000000</td>\n",
       "      <td>29.000000</td>\n",
       "      <td>3.0</td>\n",
       "      <td>56.000000</td>\n",
       "      <td>18.000000</td>\n",
       "      <td>4.000000</td>\n",
       "      <td>77.000000</td>\n",
       "      <td>18.000000</td>\n",
       "      <td>...</td>\n",
       "      <td>13.100000</td>\n",
       "      <td>15.400000</td>\n",
       "      <td>2.900000</td>\n",
       "      <td>3.700000</td>\n",
       "      <td>736.100000</td>\n",
       "      <td>3.100000</td>\n",
       "      <td>0.990000</td>\n",
       "      <td>76.000000</td>\n",
       "      <td>23.000000</td>\n",
       "      <td>57.000000</td>\n",
       "    </tr>\n",
       "  </tbody>\n",
       "</table>\n",
       "<p>8 rows × 28 columns</p>\n",
       "</div>"
      ],
      "text/plain": [
       "              id    year      month        day  timezone  statefipsno  \\\n",
       "count  99.000000    99.0  99.000000  99.000000      99.0    99.000000   \n",
       "mean   50.000000  1950.0   3.535354  13.717172       3.0    28.545455   \n",
       "std    28.722813     0.0   1.350080   9.541574       0.0    14.005300   \n",
       "min     1.000000  1950.0   1.000000   1.000000       3.0     1.000000   \n",
       "25%    25.500000  1950.0   2.000000   6.000000       3.0    20.000000   \n",
       "50%    50.000000  1950.0   4.000000  12.000000       3.0    28.000000   \n",
       "75%    74.500000  1950.0   5.000000  26.000000       3.0    40.000000   \n",
       "max    99.000000  1950.0   5.000000  29.000000       3.0    56.000000   \n",
       "\n",
       "         stateno  magnitude   injuries  fatalities    ...      temperature1  \\\n",
       "count  99.000000  99.000000  99.000000   99.000000    ...         99.000000   \n",
       "mean    6.111111   1.757576   3.838384    0.616162    ...          5.472727   \n",
       "std     4.476444   0.858224   9.659200    2.243845    ...          3.127228   \n",
       "min     1.000000   0.000000   0.000000    0.000000    ...          0.500000   \n",
       "25%     2.000000   1.000000   0.000000    0.000000    ...          2.900000   \n",
       "50%     5.000000   2.000000   0.000000    0.000000    ...          5.200000   \n",
       "75%     9.000000   2.000000   3.000000    0.000000    ...          7.900000   \n",
       "max    18.000000   4.000000  77.000000   18.000000    ...         13.100000   \n",
       "\n",
       "       temperature2  dewpointtemp1  dewpointtemp2  solarradiation  \\\n",
       "count     99.000000      99.000000      99.000000       99.000000   \n",
       "mean       5.876768      -1.130303      -0.227273      132.100000   \n",
       "std        4.479086       1.614694       1.720217      202.328849   \n",
       "min       -2.100000      -3.600000      -3.100000        0.000000   \n",
       "25%        2.500000      -2.600000      -1.600000        0.000000   \n",
       "50%        6.500000      -1.200000      -0.500000        0.000000   \n",
       "75%        9.100000       0.150000       1.100000      191.250000   \n",
       "max       15.400000       2.900000       3.700000      736.100000   \n",
       "\n",
       "       precipitation  relativehumidity      speed      hours    minutes  \n",
       "count      99.000000         99.000000  99.000000  99.000000  99.000000  \n",
       "mean        0.096970          0.632828  61.828283  13.181818  16.939394  \n",
       "std         0.420751          0.148551   8.505749   6.716358  16.148430  \n",
       "min         0.000000          0.340000  34.000000   0.000000   0.000000  \n",
       "25%         0.000000          0.550000  58.000000   8.000000   0.000000  \n",
       "50%         0.000000          0.610000  64.000000  13.000000  15.000000  \n",
       "75%         0.000000          0.690000  68.000000  19.000000  30.000000  \n",
       "max         3.100000          0.990000  76.000000  23.000000  57.000000  \n",
       "\n",
       "[8 rows x 28 columns]"
      ]
     },
     "execution_count": 1700,
     "metadata": {},
     "output_type": "execute_result"
    }
   ],
   "source": [
    "c1.describe()"
   ]
  },
  {
   "cell_type": "code",
   "execution_count": 7,
   "metadata": {},
   "outputs": [],
   "source": [
    "sp=c1['speed']"
   ]
  },
  {
   "cell_type": "code",
   "execution_count": 212,
   "metadata": {},
   "outputs": [],
   "source": [
    "#sp"
   ]
  },
  {
   "cell_type": "code",
   "execution_count": 9,
   "metadata": {},
   "outputs": [],
   "source": [
    "temp=c1['hours']"
   ]
  },
  {
   "cell_type": "code",
   "execution_count": 213,
   "metadata": {},
   "outputs": [],
   "source": [
    "#temp"
   ]
  },
  {
   "cell_type": "code",
   "execution_count": 11,
   "metadata": {},
   "outputs": [],
   "source": [
    "temp1=c1['length']"
   ]
  },
  {
   "cell_type": "markdown",
   "metadata": {},
   "source": [
    "# scatter plot between speed and time"
   ]
  },
  {
   "cell_type": "code",
   "execution_count": 12,
   "metadata": {},
   "outputs": [
    {
     "data": {
      "text/plain": [
       "Text(0.5, 0, 'Time')"
      ]
     },
     "execution_count": 12,
     "metadata": {},
     "output_type": "execute_result"
    },
    {
     "data": {
      "image/png": "[encoded data removed]",
      "text/plain": [
       "<Figure size 432x288 with 1 Axes>"
      ]
     },
     "metadata": {
      "needs_background": "light"
     },
     "output_type": "display_data"
    }
   ],
   "source": [
    "#import matplotlib.pyplot as plt\n",
    "#%matplotlib inline\n",
    "ax=plt.plot(temp,sp,'o')\n",
    "plt.ylabel(\"speed\")\n",
    "plt.xlabel(\"Time\")"
   ]
  },
  {
   "cell_type": "markdown",
   "metadata": {},
   "source": [
    "# displaying relationship between the variables"
   ]
  },
  {
   "cell_type": "code",
   "execution_count": 13,
   "metadata": {},
   "outputs": [
    {
     "data": {
      "text/html": [
       "<div>\n",
       "<style scoped>\n",
       "    .dataframe tbody tr th:only-of-type {\n",
       "        vertical-align: middle;\n",
       "    }\n",
       "\n",
       "    .dataframe tbody tr th {\n",
       "        vertical-align: top;\n",
       "    }\n",
       "\n",
       "    .dataframe thead th {\n",
       "        text-align: right;\n",
       "    }\n",
       "</style>\n",
       "<table border=\"1\" class=\"dataframe\">\n",
       "  <thead>\n",
       "    <tr style=\"text-align: right;\">\n",
       "      <th></th>\n",
       "      <th>id</th>\n",
       "      <th>year</th>\n",
       "      <th>month</th>\n",
       "      <th>day</th>\n",
       "      <th>timezone</th>\n",
       "      <th>statefipsno</th>\n",
       "      <th>stateno</th>\n",
       "      <th>magnitude</th>\n",
       "      <th>injuries</th>\n",
       "      <th>fatalities</th>\n",
       "      <th>...</th>\n",
       "      <th>temperature1</th>\n",
       "      <th>temperature2</th>\n",
       "      <th>dewpointtemp1</th>\n",
       "      <th>dewpointtemp2</th>\n",
       "      <th>solarradiation</th>\n",
       "      <th>precipitation</th>\n",
       "      <th>relativehumidity</th>\n",
       "      <th>speed</th>\n",
       "      <th>hours</th>\n",
       "      <th>minutes</th>\n",
       "    </tr>\n",
       "  </thead>\n",
       "  <tbody>\n",
       "    <tr>\n",
       "      <th>id</th>\n",
       "      <td>1.000000</td>\n",
       "      <td>NaN</td>\n",
       "      <td>0.960988</td>\n",
       "      <td>-0.279917</td>\n",
       "      <td>NaN</td>\n",
       "      <td>0.001623</td>\n",
       "      <td>0.364431</td>\n",
       "      <td>-0.284382</td>\n",
       "      <td>-0.223803</td>\n",
       "      <td>-0.194425</td>\n",
       "      <td>...</td>\n",
       "      <td>0.018154</td>\n",
       "      <td>0.016196</td>\n",
       "      <td>-0.341797</td>\n",
       "      <td>-0.282933</td>\n",
       "      <td>0.050155</td>\n",
       "      <td>-0.325159</td>\n",
       "      <td>-0.282078</td>\n",
       "      <td>0.143428</td>\n",
       "      <td>0.215176</td>\n",
       "      <td>-0.030448</td>\n",
       "    </tr>\n",
       "    <tr>\n",
       "      <th>year</th>\n",
       "      <td>NaN</td>\n",
       "      <td>NaN</td>\n",
       "      <td>NaN</td>\n",
       "      <td>NaN</td>\n",
       "      <td>NaN</td>\n",
       "      <td>NaN</td>\n",
       "      <td>NaN</td>\n",
       "      <td>NaN</td>\n",
       "      <td>NaN</td>\n",
       "      <td>NaN</td>\n",
       "      <td>...</td>\n",
       "      <td>NaN</td>\n",
       "      <td>NaN</td>\n",
       "      <td>NaN</td>\n",
       "      <td>NaN</td>\n",
       "      <td>NaN</td>\n",
       "      <td>NaN</td>\n",
       "      <td>NaN</td>\n",
       "      <td>NaN</td>\n",
       "      <td>NaN</td>\n",
       "      <td>NaN</td>\n",
       "    </tr>\n",
       "    <tr>\n",
       "      <th>month</th>\n",
       "      <td>0.960988</td>\n",
       "      <td>NaN</td>\n",
       "      <td>1.000000</td>\n",
       "      <td>-0.362802</td>\n",
       "      <td>NaN</td>\n",
       "      <td>-0.039886</td>\n",
       "      <td>0.457750</td>\n",
       "      <td>-0.283149</td>\n",
       "      <td>-0.215522</td>\n",
       "      <td>-0.214420</td>\n",
       "      <td>...</td>\n",
       "      <td>0.032496</td>\n",
       "      <td>0.028908</td>\n",
       "      <td>-0.278950</td>\n",
       "      <td>-0.211577</td>\n",
       "      <td>0.078865</td>\n",
       "      <td>-0.270159</td>\n",
       "      <td>-0.254899</td>\n",
       "      <td>0.138710</td>\n",
       "      <td>0.160206</td>\n",
       "      <td>-0.014878</td>\n",
       "    </tr>\n",
       "    <tr>\n",
       "      <th>day</th>\n",
       "      <td>-0.279917</td>\n",
       "      <td>NaN</td>\n",
       "      <td>-0.362802</td>\n",
       "      <td>1.000000</td>\n",
       "      <td>NaN</td>\n",
       "      <td>-0.010975</td>\n",
       "      <td>-0.211880</td>\n",
       "      <td>0.180949</td>\n",
       "      <td>0.039136</td>\n",
       "      <td>0.032053</td>\n",
       "      <td>...</td>\n",
       "      <td>0.362985</td>\n",
       "      <td>0.346527</td>\n",
       "      <td>0.080108</td>\n",
       "      <td>-0.011976</td>\n",
       "      <td>0.341944</td>\n",
       "      <td>-0.050542</td>\n",
       "      <td>-0.244055</td>\n",
       "      <td>-0.111248</td>\n",
       "      <td>-0.008743</td>\n",
       "      <td>0.069358</td>\n",
       "    </tr>\n",
       "    <tr>\n",
       "      <th>timezone</th>\n",
       "      <td>NaN</td>\n",
       "      <td>NaN</td>\n",
       "      <td>NaN</td>\n",
       "      <td>NaN</td>\n",
       "      <td>NaN</td>\n",
       "      <td>NaN</td>\n",
       "      <td>NaN</td>\n",
       "      <td>NaN</td>\n",
       "      <td>NaN</td>\n",
       "      <td>NaN</td>\n",
       "      <td>...</td>\n",
       "      <td>NaN</td>\n",
       "      <td>NaN</td>\n",
       "      <td>NaN</td>\n",
       "      <td>NaN</td>\n",
       "      <td>NaN</td>\n",
       "      <td>NaN</td>\n",
       "      <td>NaN</td>\n",
       "      <td>NaN</td>\n",
       "      <td>NaN</td>\n",
       "      <td>NaN</td>\n",
       "    </tr>\n",
       "    <tr>\n",
       "      <th>statefipsno</th>\n",
       "      <td>0.001623</td>\n",
       "      <td>NaN</td>\n",
       "      <td>-0.039886</td>\n",
       "      <td>-0.010975</td>\n",
       "      <td>NaN</td>\n",
       "      <td>1.000000</td>\n",
       "      <td>0.034180</td>\n",
       "      <td>-0.108588</td>\n",
       "      <td>0.003902</td>\n",
       "      <td>0.068099</td>\n",
       "      <td>...</td>\n",
       "      <td>-0.243402</td>\n",
       "      <td>-0.136109</td>\n",
       "      <td>0.212272</td>\n",
       "      <td>0.128195</td>\n",
       "      <td>-0.018221</td>\n",
       "      <td>0.313017</td>\n",
       "      <td>0.388972</td>\n",
       "      <td>-0.058909</td>\n",
       "      <td>0.022909</td>\n",
       "      <td>-0.154247</td>\n",
       "    </tr>\n",
       "    <tr>\n",
       "      <th>stateno</th>\n",
       "      <td>0.364431</td>\n",
       "      <td>NaN</td>\n",
       "      <td>0.457750</td>\n",
       "      <td>-0.211880</td>\n",
       "      <td>NaN</td>\n",
       "      <td>0.034180</td>\n",
       "      <td>1.000000</td>\n",
       "      <td>-0.250556</td>\n",
       "      <td>-0.077458</td>\n",
       "      <td>-0.129809</td>\n",
       "      <td>...</td>\n",
       "      <td>0.152636</td>\n",
       "      <td>0.145173</td>\n",
       "      <td>-0.037928</td>\n",
       "      <td>0.032333</td>\n",
       "      <td>0.154395</td>\n",
       "      <td>-0.130386</td>\n",
       "      <td>-0.180013</td>\n",
       "      <td>0.025430</td>\n",
       "      <td>-0.024437</td>\n",
       "      <td>0.029314</td>\n",
       "    </tr>\n",
       "    <tr>\n",
       "      <th>magnitude</th>\n",
       "      <td>-0.284382</td>\n",
       "      <td>NaN</td>\n",
       "      <td>-0.283149</td>\n",
       "      <td>0.180949</td>\n",
       "      <td>NaN</td>\n",
       "      <td>-0.108588</td>\n",
       "      <td>-0.250556</td>\n",
       "      <td>1.000000</td>\n",
       "      <td>0.476518</td>\n",
       "      <td>0.438679</td>\n",
       "      <td>...</td>\n",
       "      <td>0.062526</td>\n",
       "      <td>0.097268</td>\n",
       "      <td>0.144123</td>\n",
       "      <td>0.184167</td>\n",
       "      <td>0.119374</td>\n",
       "      <td>0.136411</td>\n",
       "      <td>0.027844</td>\n",
       "      <td>0.113056</td>\n",
       "      <td>0.085617</td>\n",
       "      <td>0.066667</td>\n",
       "    </tr>\n",
       "    <tr>\n",
       "      <th>injuries</th>\n",
       "      <td>-0.223803</td>\n",
       "      <td>NaN</td>\n",
       "      <td>-0.215522</td>\n",
       "      <td>0.039136</td>\n",
       "      <td>NaN</td>\n",
       "      <td>0.003902</td>\n",
       "      <td>-0.077458</td>\n",
       "      <td>0.476518</td>\n",
       "      <td>1.000000</td>\n",
       "      <td>0.763577</td>\n",
       "      <td>...</td>\n",
       "      <td>-0.077303</td>\n",
       "      <td>-0.059947</td>\n",
       "      <td>0.048555</td>\n",
       "      <td>0.121265</td>\n",
       "      <td>0.036623</td>\n",
       "      <td>0.080976</td>\n",
       "      <td>0.099811</td>\n",
       "      <td>0.056791</td>\n",
       "      <td>-0.009924</td>\n",
       "      <td>0.025777</td>\n",
       "    </tr>\n",
       "    <tr>\n",
       "      <th>fatalities</th>\n",
       "      <td>-0.194425</td>\n",
       "      <td>NaN</td>\n",
       "      <td>-0.214420</td>\n",
       "      <td>0.032053</td>\n",
       "      <td>NaN</td>\n",
       "      <td>0.068099</td>\n",
       "      <td>-0.129809</td>\n",
       "      <td>0.438679</td>\n",
       "      <td>0.763577</td>\n",
       "      <td>1.000000</td>\n",
       "      <td>...</td>\n",
       "      <td>-0.099520</td>\n",
       "      <td>-0.141921</td>\n",
       "      <td>-0.052530</td>\n",
       "      <td>-0.004590</td>\n",
       "      <td>-0.033629</td>\n",
       "      <td>-0.013134</td>\n",
       "      <td>0.045842</td>\n",
       "      <td>0.177223</td>\n",
       "      <td>-0.057614</td>\n",
       "      <td>-0.204536</td>\n",
       "    </tr>\n",
       "    <tr>\n",
       "      <th>loss</th>\n",
       "      <td>-0.186620</td>\n",
       "      <td>NaN</td>\n",
       "      <td>-0.112552</td>\n",
       "      <td>-0.038023</td>\n",
       "      <td>NaN</td>\n",
       "      <td>-0.020784</td>\n",
       "      <td>0.150319</td>\n",
       "      <td>0.317565</td>\n",
       "      <td>0.276492</td>\n",
       "      <td>0.179873</td>\n",
       "      <td>...</td>\n",
       "      <td>-0.011312</td>\n",
       "      <td>-0.016871</td>\n",
       "      <td>0.037059</td>\n",
       "      <td>0.123627</td>\n",
       "      <td>0.014861</td>\n",
       "      <td>0.080830</td>\n",
       "      <td>0.015315</td>\n",
       "      <td>0.003887</td>\n",
       "      <td>-0.020842</td>\n",
       "      <td>0.014991</td>\n",
       "    </tr>\n",
       "    <tr>\n",
       "      <th>croploss</th>\n",
       "      <td>NaN</td>\n",
       "      <td>NaN</td>\n",
       "      <td>NaN</td>\n",
       "      <td>NaN</td>\n",
       "      <td>NaN</td>\n",
       "      <td>NaN</td>\n",
       "      <td>NaN</td>\n",
       "      <td>NaN</td>\n",
       "      <td>NaN</td>\n",
       "      <td>NaN</td>\n",
       "      <td>...</td>\n",
       "      <td>NaN</td>\n",
       "      <td>NaN</td>\n",
       "      <td>NaN</td>\n",
       "      <td>NaN</td>\n",
       "      <td>NaN</td>\n",
       "      <td>NaN</td>\n",
       "      <td>NaN</td>\n",
       "      <td>NaN</td>\n",
       "      <td>NaN</td>\n",
       "      <td>NaN</td>\n",
       "    </tr>\n",
       "    <tr>\n",
       "      <th>startinglatitude</th>\n",
       "      <td>0.358906</td>\n",
       "      <td>NaN</td>\n",
       "      <td>0.235669</td>\n",
       "      <td>-0.193904</td>\n",
       "      <td>NaN</td>\n",
       "      <td>-0.019536</td>\n",
       "      <td>-0.250508</td>\n",
       "      <td>0.028832</td>\n",
       "      <td>-0.156958</td>\n",
       "      <td>-0.120631</td>\n",
       "      <td>...</td>\n",
       "      <td>0.014430</td>\n",
       "      <td>0.051147</td>\n",
       "      <td>-0.216350</td>\n",
       "      <td>-0.159223</td>\n",
       "      <td>-0.022701</td>\n",
       "      <td>-0.262201</td>\n",
       "      <td>-0.184759</td>\n",
       "      <td>0.169778</td>\n",
       "      <td>0.352685</td>\n",
       "      <td>-0.139923</td>\n",
       "    </tr>\n",
       "    <tr>\n",
       "      <th>startinglongitude</th>\n",
       "      <td>-0.192620</td>\n",
       "      <td>NaN</td>\n",
       "      <td>-0.216071</td>\n",
       "      <td>0.174347</td>\n",
       "      <td>NaN</td>\n",
       "      <td>-0.279307</td>\n",
       "      <td>-0.240326</td>\n",
       "      <td>-0.220960</td>\n",
       "      <td>-0.055293</td>\n",
       "      <td>-0.038865</td>\n",
       "      <td>...</td>\n",
       "      <td>0.129964</td>\n",
       "      <td>0.033671</td>\n",
       "      <td>-0.029300</td>\n",
       "      <td>-0.126180</td>\n",
       "      <td>-0.126443</td>\n",
       "      <td>-0.084489</td>\n",
       "      <td>-0.125972</td>\n",
       "      <td>0.019517</td>\n",
       "      <td>-0.219853</td>\n",
       "      <td>0.094896</td>\n",
       "    </tr>\n",
       "    <tr>\n",
       "      <th>endinglatitude</th>\n",
       "      <td>-0.181160</td>\n",
       "      <td>NaN</td>\n",
       "      <td>-0.176449</td>\n",
       "      <td>0.198931</td>\n",
       "      <td>NaN</td>\n",
       "      <td>-0.044386</td>\n",
       "      <td>-0.032887</td>\n",
       "      <td>0.507945</td>\n",
       "      <td>0.308851</td>\n",
       "      <td>0.117148</td>\n",
       "      <td>...</td>\n",
       "      <td>0.067468</td>\n",
       "      <td>0.136851</td>\n",
       "      <td>0.146278</td>\n",
       "      <td>0.206015</td>\n",
       "      <td>0.171102</td>\n",
       "      <td>0.170279</td>\n",
       "      <td>0.056080</td>\n",
       "      <td>0.084005</td>\n",
       "      <td>0.152799</td>\n",
       "      <td>0.207674</td>\n",
       "    </tr>\n",
       "    <tr>\n",
       "      <th>endinglongitude</th>\n",
       "      <td>0.214425</td>\n",
       "      <td>NaN</td>\n",
       "      <td>0.200243</td>\n",
       "      <td>-0.210021</td>\n",
       "      <td>NaN</td>\n",
       "      <td>-0.011523</td>\n",
       "      <td>0.006546</td>\n",
       "      <td>-0.497049</td>\n",
       "      <td>-0.327429</td>\n",
       "      <td>-0.136676</td>\n",
       "      <td>...</td>\n",
       "      <td>-0.033985</td>\n",
       "      <td>-0.114571</td>\n",
       "      <td>-0.192129</td>\n",
       "      <td>-0.246983</td>\n",
       "      <td>-0.167895</td>\n",
       "      <td>-0.224339</td>\n",
       "      <td>-0.119374</td>\n",
       "      <td>-0.047068</td>\n",
       "      <td>-0.133958</td>\n",
       "      <td>-0.194514</td>\n",
       "    </tr>\n",
       "    <tr>\n",
       "      <th>length</th>\n",
       "      <td>-0.142978</td>\n",
       "      <td>NaN</td>\n",
       "      <td>-0.147310</td>\n",
       "      <td>0.100456</td>\n",
       "      <td>NaN</td>\n",
       "      <td>-0.150241</td>\n",
       "      <td>-0.122615</td>\n",
       "      <td>0.362028</td>\n",
       "      <td>0.597664</td>\n",
       "      <td>0.544367</td>\n",
       "      <td>...</td>\n",
       "      <td>0.038320</td>\n",
       "      <td>-0.026981</td>\n",
       "      <td>-0.141453</td>\n",
       "      <td>-0.051452</td>\n",
       "      <td>-0.067873</td>\n",
       "      <td>0.008861</td>\n",
       "      <td>-0.102693</td>\n",
       "      <td>-0.012672</td>\n",
       "      <td>-0.044593</td>\n",
       "      <td>0.040471</td>\n",
       "    </tr>\n",
       "    <tr>\n",
       "      <th>width</th>\n",
       "      <td>-0.090421</td>\n",
       "      <td>NaN</td>\n",
       "      <td>-0.070095</td>\n",
       "      <td>0.128928</td>\n",
       "      <td>NaN</td>\n",
       "      <td>-0.106186</td>\n",
       "      <td>-0.029132</td>\n",
       "      <td>0.315090</td>\n",
       "      <td>0.177683</td>\n",
       "      <td>-0.027294</td>\n",
       "      <td>...</td>\n",
       "      <td>-0.053989</td>\n",
       "      <td>0.065199</td>\n",
       "      <td>0.126030</td>\n",
       "      <td>0.106446</td>\n",
       "      <td>0.317445</td>\n",
       "      <td>0.341345</td>\n",
       "      <td>0.139758</td>\n",
       "      <td>-0.047934</td>\n",
       "      <td>0.154740</td>\n",
       "      <td>0.158542</td>\n",
       "    </tr>\n",
       "    <tr>\n",
       "      <th>temperature1</th>\n",
       "      <td>0.018154</td>\n",
       "      <td>NaN</td>\n",
       "      <td>0.032496</td>\n",
       "      <td>0.362985</td>\n",
       "      <td>NaN</td>\n",
       "      <td>-0.243402</td>\n",
       "      <td>0.152636</td>\n",
       "      <td>0.062526</td>\n",
       "      <td>-0.077303</td>\n",
       "      <td>-0.099520</td>\n",
       "      <td>...</td>\n",
       "      <td>1.000000</td>\n",
       "      <td>0.919486</td>\n",
       "      <td>0.191932</td>\n",
       "      <td>0.176987</td>\n",
       "      <td>0.433718</td>\n",
       "      <td>-0.300962</td>\n",
       "      <td>-0.784918</td>\n",
       "      <td>0.174753</td>\n",
       "      <td>-0.158821</td>\n",
       "      <td>-0.032969</td>\n",
       "    </tr>\n",
       "    <tr>\n",
       "      <th>temperature2</th>\n",
       "      <td>0.016196</td>\n",
       "      <td>NaN</td>\n",
       "      <td>0.028908</td>\n",
       "      <td>0.346527</td>\n",
       "      <td>NaN</td>\n",
       "      <td>-0.136109</td>\n",
       "      <td>0.145173</td>\n",
       "      <td>0.097268</td>\n",
       "      <td>-0.059947</td>\n",
       "      <td>-0.141921</td>\n",
       "      <td>...</td>\n",
       "      <td>0.919486</td>\n",
       "      <td>1.000000</td>\n",
       "      <td>0.383242</td>\n",
       "      <td>0.355159</td>\n",
       "      <td>0.538367</td>\n",
       "      <td>-0.134480</td>\n",
       "      <td>-0.586099</td>\n",
       "      <td>0.173292</td>\n",
       "      <td>-0.099107</td>\n",
       "      <td>0.017798</td>\n",
       "    </tr>\n",
       "    <tr>\n",
       "      <th>dewpointtemp1</th>\n",
       "      <td>-0.341797</td>\n",
       "      <td>NaN</td>\n",
       "      <td>-0.278950</td>\n",
       "      <td>0.080108</td>\n",
       "      <td>NaN</td>\n",
       "      <td>0.212272</td>\n",
       "      <td>-0.037928</td>\n",
       "      <td>0.144123</td>\n",
       "      <td>0.048555</td>\n",
       "      <td>-0.052530</td>\n",
       "      <td>...</td>\n",
       "      <td>0.191932</td>\n",
       "      <td>0.383242</td>\n",
       "      <td>1.000000</td>\n",
       "      <td>0.902799</td>\n",
       "      <td>0.298823</td>\n",
       "      <td>0.343061</td>\n",
       "      <td>0.437045</td>\n",
       "      <td>-0.070891</td>\n",
       "      <td>-0.078053</td>\n",
       "      <td>0.045011</td>\n",
       "    </tr>\n",
       "    <tr>\n",
       "      <th>dewpointtemp2</th>\n",
       "      <td>-0.282933</td>\n",
       "      <td>NaN</td>\n",
       "      <td>-0.211577</td>\n",
       "      <td>-0.011976</td>\n",
       "      <td>NaN</td>\n",
       "      <td>0.128195</td>\n",
       "      <td>0.032333</td>\n",
       "      <td>0.184167</td>\n",
       "      <td>0.121265</td>\n",
       "      <td>-0.004590</td>\n",
       "      <td>...</td>\n",
       "      <td>0.176987</td>\n",
       "      <td>0.355159</td>\n",
       "      <td>0.902799</td>\n",
       "      <td>1.000000</td>\n",
       "      <td>0.140980</td>\n",
       "      <td>0.335705</td>\n",
       "      <td>0.378416</td>\n",
       "      <td>-0.056185</td>\n",
       "      <td>-0.027917</td>\n",
       "      <td>0.014817</td>\n",
       "    </tr>\n",
       "    <tr>\n",
       "      <th>solarradiation</th>\n",
       "      <td>0.050155</td>\n",
       "      <td>NaN</td>\n",
       "      <td>0.078865</td>\n",
       "      <td>0.341944</td>\n",
       "      <td>NaN</td>\n",
       "      <td>-0.018221</td>\n",
       "      <td>0.154395</td>\n",
       "      <td>0.119374</td>\n",
       "      <td>0.036623</td>\n",
       "      <td>-0.033629</td>\n",
       "      <td>...</td>\n",
       "      <td>0.433718</td>\n",
       "      <td>0.538367</td>\n",
       "      <td>0.298823</td>\n",
       "      <td>0.140980</td>\n",
       "      <td>1.000000</td>\n",
       "      <td>-0.079174</td>\n",
       "      <td>-0.206355</td>\n",
       "      <td>0.184528</td>\n",
       "      <td>0.086009</td>\n",
       "      <td>-0.096636</td>\n",
       "    </tr>\n",
       "    <tr>\n",
       "      <th>precipitation</th>\n",
       "      <td>-0.325159</td>\n",
       "      <td>NaN</td>\n",
       "      <td>-0.270159</td>\n",
       "      <td>-0.050542</td>\n",
       "      <td>NaN</td>\n",
       "      <td>0.313017</td>\n",
       "      <td>-0.130386</td>\n",
       "      <td>0.136411</td>\n",
       "      <td>0.080976</td>\n",
       "      <td>-0.013134</td>\n",
       "      <td>...</td>\n",
       "      <td>-0.300962</td>\n",
       "      <td>-0.134480</td>\n",
       "      <td>0.343061</td>\n",
       "      <td>0.335705</td>\n",
       "      <td>-0.079174</td>\n",
       "      <td>1.000000</td>\n",
       "      <td>0.551295</td>\n",
       "      <td>-0.192321</td>\n",
       "      <td>0.024029</td>\n",
       "      <td>0.202268</td>\n",
       "    </tr>\n",
       "    <tr>\n",
       "      <th>relativehumidity</th>\n",
       "      <td>-0.282078</td>\n",
       "      <td>NaN</td>\n",
       "      <td>-0.254899</td>\n",
       "      <td>-0.244055</td>\n",
       "      <td>NaN</td>\n",
       "      <td>0.388972</td>\n",
       "      <td>-0.180013</td>\n",
       "      <td>0.027844</td>\n",
       "      <td>0.099811</td>\n",
       "      <td>0.045842</td>\n",
       "      <td>...</td>\n",
       "      <td>-0.784918</td>\n",
       "      <td>-0.586099</td>\n",
       "      <td>0.437045</td>\n",
       "      <td>0.378416</td>\n",
       "      <td>-0.206355</td>\n",
       "      <td>0.551295</td>\n",
       "      <td>1.000000</td>\n",
       "      <td>-0.209986</td>\n",
       "      <td>0.059003</td>\n",
       "      <td>0.073576</td>\n",
       "    </tr>\n",
       "    <tr>\n",
       "      <th>speed</th>\n",
       "      <td>0.143428</td>\n",
       "      <td>NaN</td>\n",
       "      <td>0.138710</td>\n",
       "      <td>-0.111248</td>\n",
       "      <td>NaN</td>\n",
       "      <td>-0.058909</td>\n",
       "      <td>0.025430</td>\n",
       "      <td>0.113056</td>\n",
       "      <td>0.056791</td>\n",
       "      <td>0.177223</td>\n",
       "      <td>...</td>\n",
       "      <td>0.174753</td>\n",
       "      <td>0.173292</td>\n",
       "      <td>-0.070891</td>\n",
       "      <td>-0.056185</td>\n",
       "      <td>0.184528</td>\n",
       "      <td>-0.192321</td>\n",
       "      <td>-0.209986</td>\n",
       "      <td>1.000000</td>\n",
       "      <td>-0.288453</td>\n",
       "      <td>-0.156160</td>\n",
       "    </tr>\n",
       "    <tr>\n",
       "      <th>hours</th>\n",
       "      <td>0.215176</td>\n",
       "      <td>NaN</td>\n",
       "      <td>0.160206</td>\n",
       "      <td>-0.008743</td>\n",
       "      <td>NaN</td>\n",
       "      <td>0.022909</td>\n",
       "      <td>-0.024437</td>\n",
       "      <td>0.085617</td>\n",
       "      <td>-0.009924</td>\n",
       "      <td>-0.057614</td>\n",
       "      <td>...</td>\n",
       "      <td>-0.158821</td>\n",
       "      <td>-0.099107</td>\n",
       "      <td>-0.078053</td>\n",
       "      <td>-0.027917</td>\n",
       "      <td>0.086009</td>\n",
       "      <td>0.024029</td>\n",
       "      <td>0.059003</td>\n",
       "      <td>-0.288453</td>\n",
       "      <td>1.000000</td>\n",
       "      <td>-0.024453</td>\n",
       "    </tr>\n",
       "    <tr>\n",
       "      <th>minutes</th>\n",
       "      <td>-0.030448</td>\n",
       "      <td>NaN</td>\n",
       "      <td>-0.014878</td>\n",
       "      <td>0.069358</td>\n",
       "      <td>NaN</td>\n",
       "      <td>-0.154247</td>\n",
       "      <td>0.029314</td>\n",
       "      <td>0.066667</td>\n",
       "      <td>0.025777</td>\n",
       "      <td>-0.204536</td>\n",
       "      <td>...</td>\n",
       "      <td>-0.032969</td>\n",
       "      <td>0.017798</td>\n",
       "      <td>0.045011</td>\n",
       "      <td>0.014817</td>\n",
       "      <td>-0.096636</td>\n",
       "      <td>0.202268</td>\n",
       "      <td>0.073576</td>\n",
       "      <td>-0.156160</td>\n",
       "      <td>-0.024453</td>\n",
       "      <td>1.000000</td>\n",
       "    </tr>\n",
       "  </tbody>\n",
       "</table>\n",
       "<p>28 rows × 28 columns</p>\n",
       "</div>"
      ],
      "text/plain": [
       "                         id  year     month       day  timezone  statefipsno  \\\n",
       "id                 1.000000   NaN  0.960988 -0.279917       NaN     0.001623   \n",
       "year                    NaN   NaN       NaN       NaN       NaN          NaN   \n",
       "month              0.960988   NaN  1.000000 -0.362802       NaN    -0.039886   \n",
       "day               -0.279917   NaN -0.362802  1.000000       NaN    -0.010975   \n",
       "timezone                NaN   NaN       NaN       NaN       NaN          NaN   \n",
       "statefipsno        0.001623   NaN -0.039886 -0.010975       NaN     1.000000   \n",
       "stateno            0.364431   NaN  0.457750 -0.211880       NaN     0.034180   \n",
       "magnitude         -0.284382   NaN -0.283149  0.180949       NaN    -0.108588   \n",
       "injuries          -0.223803   NaN -0.215522  0.039136       NaN     0.003902   \n",
       "fatalities        -0.194425   NaN -0.214420  0.032053       NaN     0.068099   \n",
       "loss              -0.186620   NaN -0.112552 -0.038023       NaN    -0.020784   \n",
       "croploss                NaN   NaN       NaN       NaN       NaN          NaN   \n",
       "startinglatitude   0.358906   NaN  0.235669 -0.193904       NaN    -0.019536   \n",
       "startinglongitude -0.192620   NaN -0.216071  0.174347       NaN    -0.279307   \n",
       "endinglatitude    -0.181160   NaN -0.176449  0.198931       NaN    -0.044386   \n",
       "endinglongitude    0.214425   NaN  0.200243 -0.210021       NaN    -0.011523   \n",
       "length            -0.142978   NaN -0.147310  0.100456       NaN    -0.150241   \n",
       "width             -0.090421   NaN -0.070095  0.128928       NaN    -0.106186   \n",
       "temperature1       0.018154   NaN  0.032496  0.362985       NaN    -0.243402   \n",
       "temperature2       0.016196   NaN  0.028908  0.346527       NaN    -0.136109   \n",
       "dewpointtemp1     -0.341797   NaN -0.278950  0.080108       NaN     0.212272   \n",
       "dewpointtemp2     -0.282933   NaN -0.211577 -0.011976       NaN     0.128195   \n",
       "solarradiation     0.050155   NaN  0.078865  0.341944       NaN    -0.018221   \n",
       "precipitation     -0.325159   NaN -0.270159 -0.050542       NaN     0.313017   \n",
       "relativehumidity  -0.282078   NaN -0.254899 -0.244055       NaN     0.388972   \n",
       "speed              0.143428   NaN  0.138710 -0.111248       NaN    -0.058909   \n",
       "hours              0.215176   NaN  0.160206 -0.008743       NaN     0.022909   \n",
       "minutes           -0.030448   NaN -0.014878  0.069358       NaN    -0.154247   \n",
       "\n",
       "                    stateno  magnitude  injuries  fatalities    ...     \\\n",
       "id                 0.364431  -0.284382 -0.223803   -0.194425    ...      \n",
       "year                    NaN        NaN       NaN         NaN    ...      \n",
       "month              0.457750  -0.283149 -0.215522   -0.214420    ...      \n",
       "day               -0.211880   0.180949  0.039136    0.032053    ...      \n",
       "timezone                NaN        NaN       NaN         NaN    ...      \n",
       "statefipsno        0.034180  -0.108588  0.003902    0.068099    ...      \n",
       "stateno            1.000000  -0.250556 -0.077458   -0.129809    ...      \n",
       "magnitude         -0.250556   1.000000  0.476518    0.438679    ...      \n",
       "injuries          -0.077458   0.476518  1.000000    0.763577    ...      \n",
       "fatalities        -0.129809   0.438679  0.763577    1.000000    ...      \n",
       "loss               0.150319   0.317565  0.276492    0.179873    ...      \n",
       "croploss                NaN        NaN       NaN         NaN    ...      \n",
       "startinglatitude  -0.250508   0.028832 -0.156958   -0.120631    ...      \n",
       "startinglongitude -0.240326  -0.220960 -0.055293   -0.038865    ...      \n",
       "endinglatitude    -0.032887   0.507945  0.308851    0.117148    ...      \n",
       "endinglongitude    0.006546  -0.497049 -0.327429   -0.136676    ...      \n",
       "length            -0.122615   0.362028  0.597664    0.544367    ...      \n",
       "width             -0.029132   0.315090  0.177683   -0.027294    ...      \n",
       "temperature1       0.152636   0.062526 -0.077303   -0.099520    ...      \n",
       "temperature2       0.145173   0.097268 -0.059947   -0.141921    ...      \n",
       "dewpointtemp1     -0.037928   0.144123  0.048555   -0.052530    ...      \n",
       "dewpointtemp2      0.032333   0.184167  0.121265   -0.004590    ...      \n",
       "solarradiation     0.154395   0.119374  0.036623   -0.033629    ...      \n",
       "precipitation     -0.130386   0.136411  0.080976   -0.013134    ...      \n",
       "relativehumidity  -0.180013   0.027844  0.099811    0.045842    ...      \n",
       "speed              0.025430   0.113056  0.056791    0.177223    ...      \n",
       "hours             -0.024437   0.085617 -0.009924   -0.057614    ...      \n",
       "minutes            0.029314   0.066667  0.025777   -0.204536    ...      \n",
       "\n",
       "                   temperature1  temperature2  dewpointtemp1  dewpointtemp2  \\\n",
       "id                     0.018154      0.016196      -0.341797      -0.282933   \n",
       "year                        NaN           NaN            NaN            NaN   \n",
       "month                  0.032496      0.028908      -0.278950      -0.211577   \n",
       "day                    0.362985      0.346527       0.080108      -0.011976   \n",
       "timezone                    NaN           NaN            NaN            NaN   \n",
       "statefipsno           -0.243402     -0.136109       0.212272       0.128195   \n",
       "stateno                0.152636      0.145173      -0.037928       0.032333   \n",
       "magnitude              0.062526      0.097268       0.144123       0.184167   \n",
       "injuries              -0.077303     -0.059947       0.048555       0.121265   \n",
       "fatalities            -0.099520     -0.141921      -0.052530      -0.004590   \n",
       "loss                  -0.011312     -0.016871       0.037059       0.123627   \n",
       "croploss                    NaN           NaN            NaN            NaN   \n",
       "startinglatitude       0.014430      0.051147      -0.216350      -0.159223   \n",
       "startinglongitude      0.129964      0.033671      -0.029300      -0.126180   \n",
       "endinglatitude         0.067468      0.136851       0.146278       0.206015   \n",
       "endinglongitude       -0.033985     -0.114571      -0.192129      -0.246983   \n",
       "length                 0.038320     -0.026981      -0.141453      -0.051452   \n",
       "width                 -0.053989      0.065199       0.126030       0.106446   \n",
       "temperature1           1.000000      0.919486       0.191932       0.176987   \n",
       "temperature2           0.919486      1.000000       0.383242       0.355159   \n",
       "dewpointtemp1          0.191932      0.383242       1.000000       0.902799   \n",
       "dewpointtemp2          0.176987      0.355159       0.902799       1.000000   \n",
       "solarradiation         0.433718      0.538367       0.298823       0.140980   \n",
       "precipitation         -0.300962     -0.134480       0.343061       0.335705   \n",
       "relativehumidity      -0.784918     -0.586099       0.437045       0.378416   \n",
       "speed                  0.174753      0.173292      -0.070891      -0.056185   \n",
       "hours                 -0.158821     -0.099107      -0.078053      -0.027917   \n",
       "minutes               -0.032969      0.017798       0.045011       0.014817   \n",
       "\n",
       "                   solarradiation  precipitation  relativehumidity     speed  \\\n",
       "id                       0.050155      -0.325159         -0.282078  0.143428   \n",
       "year                          NaN            NaN               NaN       NaN   \n",
       "month                    0.078865      -0.270159         -0.254899  0.138710   \n",
       "day                      0.341944      -0.050542         -0.244055 -0.111248   \n",
       "timezone                      NaN            NaN               NaN       NaN   \n",
       "statefipsno             -0.018221       0.313017          0.388972 -0.058909   \n",
       "stateno                  0.154395      -0.130386         -0.180013  0.025430   \n",
       "magnitude                0.119374       0.136411          0.027844  0.113056   \n",
       "injuries                 0.036623       0.080976          0.099811  0.056791   \n",
       "fatalities              -0.033629      -0.013134          0.045842  0.177223   \n",
       "loss                     0.014861       0.080830          0.015315  0.003887   \n",
       "croploss                      NaN            NaN               NaN       NaN   \n",
       "startinglatitude        -0.022701      -0.262201         -0.184759  0.169778   \n",
       "startinglongitude       -0.126443      -0.084489         -0.125972  0.019517   \n",
       "endinglatitude           0.171102       0.170279          0.056080  0.084005   \n",
       "endinglongitude         -0.167895      -0.224339         -0.119374 -0.047068   \n",
       "length                  -0.067873       0.008861         -0.102693 -0.012672   \n",
       "width                    0.317445       0.341345          0.139758 -0.047934   \n",
       "temperature1             0.433718      -0.300962         -0.784918  0.174753   \n",
       "temperature2             0.538367      -0.134480         -0.586099  0.173292   \n",
       "dewpointtemp1            0.298823       0.343061          0.437045 -0.070891   \n",
       "dewpointtemp2            0.140980       0.335705          0.378416 -0.056185   \n",
       "solarradiation           1.000000      -0.079174         -0.206355  0.184528   \n",
       "precipitation           -0.079174       1.000000          0.551295 -0.192321   \n",
       "relativehumidity        -0.206355       0.551295          1.000000 -0.209986   \n",
       "speed                    0.184528      -0.192321         -0.209986  1.000000   \n",
       "hours                    0.086009       0.024029          0.059003 -0.288453   \n",
       "minutes                 -0.096636       0.202268          0.073576 -0.156160   \n",
       "\n",
       "                      hours   minutes  \n",
       "id                 0.215176 -0.030448  \n",
       "year                    NaN       NaN  \n",
       "month              0.160206 -0.014878  \n",
       "day               -0.008743  0.069358  \n",
       "timezone                NaN       NaN  \n",
       "statefipsno        0.022909 -0.154247  \n",
       "stateno           -0.024437  0.029314  \n",
       "magnitude          0.085617  0.066667  \n",
       "injuries          -0.009924  0.025777  \n",
       "fatalities        -0.057614 -0.204536  \n",
       "loss              -0.020842  0.014991  \n",
       "croploss                NaN       NaN  \n",
       "startinglatitude   0.352685 -0.139923  \n",
       "startinglongitude -0.219853  0.094896  \n",
       "endinglatitude     0.152799  0.207674  \n",
       "endinglongitude   -0.133958 -0.194514  \n",
       "length            -0.044593  0.040471  \n",
       "width              0.154740  0.158542  \n",
       "temperature1      -0.158821 -0.032969  \n",
       "temperature2      -0.099107  0.017798  \n",
       "dewpointtemp1     -0.078053  0.045011  \n",
       "dewpointtemp2     -0.027917  0.014817  \n",
       "solarradiation     0.086009 -0.096636  \n",
       "precipitation      0.024029  0.202268  \n",
       "relativehumidity   0.059003  0.073576  \n",
       "speed             -0.288453 -0.156160  \n",
       "hours              1.000000 -0.024453  \n",
       "minutes           -0.024453  1.000000  \n",
       "\n",
       "[28 rows x 28 columns]"
      ]
     },
     "execution_count": 13,
     "metadata": {},
     "output_type": "execute_result"
    }
   ],
   "source": [
    "c1.corr()"
   ]
  },
  {
   "cell_type": "code",
   "execution_count": 14,
   "metadata": {},
   "outputs": [],
   "source": [
    "x=c1['speed'].mean()"
   ]
  },
  {
   "cell_type": "code",
   "execution_count": 15,
   "metadata": {},
   "outputs": [
    {
     "data": {
      "text/plain": [
       "61.82828282828283"
      ]
     },
     "execution_count": 15,
     "metadata": {},
     "output_type": "execute_result"
    }
   ],
   "source": [
    "x"
   ]
  },
  {
   "cell_type": "markdown",
   "metadata": {},
   "source": [
    "# comparing the plot with mean value"
   ]
  },
  {
   "cell_type": "code",
   "execution_count": 16,
   "metadata": {},
   "outputs": [
    {
     "data": {
      "image/png": "[encoded data removed]",
      "text/plain": [
       "<Figure size 432x288 with 1 Axes>"
      ]
     },
     "metadata": {
      "needs_background": "light"
     },
     "output_type": "display_data"
    }
   ],
   "source": [
    "ax=plt.plot(temp,sp,'o')\n",
    "plt.ylabel(\"speed\")\n",
    "plt.xlabel(\"Time\")\n",
    "plt.axhline(x,color='r',linestyle='-')\n",
    "plt.show()"
   ]
  },
  {
   "cell_type": "code",
   "execution_count": 19,
   "metadata": {},
   "outputs": [],
   "source": [
    "import seaborn as sns\n",
    "#sns.pairplot(c1)"
   ]
  },
  {
   "cell_type": "markdown",
   "metadata": {},
   "source": [
    "# plotting distplots"
   ]
  },
  {
   "cell_type": "code",
   "execution_count": 20,
   "metadata": {},
   "outputs": [
    {
     "name": "stderr",
     "output_type": "stream",
     "text": [
      "C:\\Users\\MEDAM NAGA VYSHNAVI\\Anaconda3\\lib\\site-packages\\scipy\\stats\\stats.py:1713: FutureWarning: Using a non-tuple sequence for multidimensional indexing is deprecated; use `arr[tuple(seq)]` instead of `arr[seq]`. In the future this will be interpreted as an array index, `arr[np.array(seq)]`, which will result either in an error or a different result.\n",
      "  return np.add.reduce(sorted[indexer] * weights, axis=axis) / sumval\n"
     ]
    },
    {
     "data": {
      "text/plain": [
       "<matplotlib.axes._subplots.AxesSubplot at 0x223af7bc208>"
      ]
     },
     "execution_count": 20,
     "metadata": {},
     "output_type": "execute_result"
    },
    {
     "data": {
      "image/png": "[encoded data removed]",
      "text/plain": [
       "<Figure size 432x288 with 1 Axes>"
      ]
     },
     "metadata": {
      "needs_background": "light"
     },
     "output_type": "display_data"
    }
   ],
   "source": [
    "sns.distplot(c1['speed'])"
   ]
  },
  {
   "cell_type": "code",
   "execution_count": 21,
   "metadata": {},
   "outputs": [
    {
     "data": {
      "text/plain": [
       "<matplotlib.axes._subplots.AxesSubplot at 0x223af886c88>"
      ]
     },
     "execution_count": 21,
     "metadata": {},
     "output_type": "execute_result"
    },
    {
     "data": {
      "image/png": "[encoded data removed]",
      "text/plain": [
       "<Figure size 432x288 with 1 Axes>"
      ]
     },
     "metadata": {
      "needs_background": "light"
     },
     "output_type": "display_data"
    }
   ],
   "source": [
    "sns.distplot(c1['startinglatitude'])"
   ]
  },
  {
   "cell_type": "code",
   "execution_count": 22,
   "metadata": {},
   "outputs": [
    {
     "data": {
      "text/plain": [
       "<matplotlib.axes._subplots.AxesSubplot at 0x223af9036a0>"
      ]
     },
     "execution_count": 22,
     "metadata": {},
     "output_type": "execute_result"
    },
    {
     "data": {
      "image/png": "[encoded data removed]",
      "text/plain": [
       "<Figure size 432x288 with 1 Axes>"
      ]
     },
     "metadata": {
      "needs_background": "light"
     },
     "output_type": "display_data"
    }
   ],
   "source": [
    "sns.distplot(c1['startinglongitude'])"
   ]
  },
  {
   "cell_type": "code",
   "execution_count": 23,
   "metadata": {},
   "outputs": [
    {
     "data": {
      "text/plain": [
       "<matplotlib.axes._subplots.AxesSubplot at 0x223af8f3978>"
      ]
     },
     "execution_count": 23,
     "metadata": {},
     "output_type": "execute_result"
    },
    {
     "data": {
      "image/png": "[encoded data removed]",
      "text/plain": [
       "<Figure size 432x288 with 1 Axes>"
      ]
     },
     "metadata": {
      "needs_background": "light"
     },
     "output_type": "display_data"
    }
   ],
   "source": [
    "sns.distplot(c1['endinglatitude'])"
   ]
  },
  {
   "cell_type": "code",
   "execution_count": 24,
   "metadata": {},
   "outputs": [
    {
     "data": {
      "text/plain": [
       "<matplotlib.axes._subplots.AxesSubplot at 0x223af9bf390>"
      ]
     },
     "execution_count": 24,
     "metadata": {},
     "output_type": "execute_result"
    },
    {
     "data": {
      "image/png": "[encoded data removed]",
      "text/plain": [
       "<Figure size 432x288 with 1 Axes>"
      ]
     },
     "metadata": {
      "needs_background": "light"
     },
     "output_type": "display_data"
    }
   ],
   "source": [
    "sns.distplot(c1['endinglongitude'])"
   ]
  },
  {
   "cell_type": "markdown",
   "metadata": {},
   "source": [
    "# correlation graph(heatmap)"
   ]
  },
  {
   "cell_type": "code",
   "execution_count": 25,
   "metadata": {},
   "outputs": [
    {
     "data": {
      "text/plain": [
       "<matplotlib.axes._subplots.AxesSubplot at 0x223afa59358>"
      ]
     },
     "execution_count": 25,
     "metadata": {},
     "output_type": "execute_result"
    },
    {
     "data": {
      "image/png": "[encoded data removed]",
      "text/plain": [
       "<Figure size 432x288 with 2 Axes>"
      ]
     },
     "metadata": {
      "needs_background": "light"
     },
     "output_type": "display_data"
    }
   ],
   "source": [
    "corr=c1.corr()\n",
    "sns.heatmap(corr,xticklabels=corr.columns,yticklabels=corr.columns)"
   ]
  },
  {
   "cell_type": "markdown",
   "metadata": {},
   "source": [
    "# Various Stats models"
   ]
  },
  {
   "cell_type": "code",
   "execution_count": 26,
   "metadata": {},
   "outputs": [],
   "source": [
    "import statsmodels.api as sm\n",
    "model1=sm.OLS(sp,temp1).fit()"
   ]
  },
  {
   "cell_type": "code",
   "execution_count": 27,
   "metadata": {},
   "outputs": [
    {
     "data": {
      "text/html": [
       "<table class=\"simpletable\">\n",
       "<caption>OLS Regression Results</caption>\n",
       "<tr>\n",
       "  <th>Dep. Variable:</th>          <td>speed</td>      <th>  R-squared:         </th> <td>   0.220</td>\n",
       "</tr>\n",
       "<tr>\n",
       "  <th>Model:</th>                   <td>OLS</td>       <th>  Adj. R-squared:    </th> <td>   0.212</td>\n",
       "</tr>\n",
       "<tr>\n",
       "  <th>Method:</th>             <td>Least Squares</td>  <th>  F-statistic:       </th> <td>   27.56</td>\n",
       "</tr>\n",
       "<tr>\n",
       "  <th>Date:</th>             <td>Thu, 13 Jun 2019</td> <th>  Prob (F-statistic):</th> <td>8.83e-07</td>\n",
       "</tr>\n",
       "<tr>\n",
       "  <th>Time:</th>                 <td>16:41:35</td>     <th>  Log-Likelihood:    </th> <td> -537.44</td>\n",
       "</tr>\n",
       "<tr>\n",
       "  <th>No. Observations:</th>      <td>    99</td>      <th>  AIC:               </th> <td>   1077.</td>\n",
       "</tr>\n",
       "<tr>\n",
       "  <th>Df Residuals:</th>          <td>    98</td>      <th>  BIC:               </th> <td>   1079.</td>\n",
       "</tr>\n",
       "<tr>\n",
       "  <th>Df Model:</th>              <td>     1</td>      <th>                     </th>     <td> </td>   \n",
       "</tr>\n",
       "<tr>\n",
       "  <th>Covariance Type:</th>      <td>nonrobust</td>    <th>                     </th>     <td> </td>   \n",
       "</tr>\n",
       "</table>\n",
       "<table class=\"simpletable\">\n",
       "<tr>\n",
       "     <td></td>       <th>coef</th>     <th>std err</th>      <th>t</th>      <th>P>|t|</th>  <th>[0.025</th>    <th>0.975]</th>  \n",
       "</tr>\n",
       "<tr>\n",
       "  <th>length</th> <td>    1.7634</td> <td>    0.336</td> <td>    5.250</td> <td> 0.000</td> <td>    1.097</td> <td>    2.430</td>\n",
       "</tr>\n",
       "</table>\n",
       "<table class=\"simpletable\">\n",
       "<tr>\n",
       "  <th>Omnibus:</th>       <td>83.309</td> <th>  Durbin-Watson:     </th> <td>   0.286</td> \n",
       "</tr>\n",
       "<tr>\n",
       "  <th>Prob(Omnibus):</th> <td> 0.000</td> <th>  Jarque-Bera (JB):  </th> <td> 511.530</td> \n",
       "</tr>\n",
       "<tr>\n",
       "  <th>Skew:</th>          <td>-2.897</td> <th>  Prob(JB):          </th> <td>8.37e-112</td>\n",
       "</tr>\n",
       "<tr>\n",
       "  <th>Kurtosis:</th>      <td>12.509</td> <th>  Cond. No.          </th> <td>    1.00</td> \n",
       "</tr>\n",
       "</table><br/><br/>Warnings:<br/>[1] Standard Errors assume that the covariance matrix of the errors is correctly specified."
      ],
      "text/plain": [
       "<class 'statsmodels.iolib.summary.Summary'>\n",
       "\"\"\"\n",
       "                            OLS Regression Results                            \n",
       "==============================================================================\n",
       "Dep. Variable:                  speed   R-squared:                       0.220\n",
       "Model:                            OLS   Adj. R-squared:                  0.212\n",
       "Method:                 Least Squares   F-statistic:                     27.56\n",
       "Date:                Thu, 13 Jun 2019   Prob (F-statistic):           8.83e-07\n",
       "Time:                        16:41:35   Log-Likelihood:                -537.44\n",
       "No. Observations:                  99   AIC:                             1077.\n",
       "Df Residuals:                      98   BIC:                             1079.\n",
       "Df Model:                           1                                         \n",
       "Covariance Type:            nonrobust                                         \n",
       "==============================================================================\n",
       "                 coef    std err          t      P>|t|      [0.025      0.975]\n",
       "------------------------------------------------------------------------------\n",
       "length         1.7634      0.336      5.250      0.000       1.097       2.430\n",
       "==============================================================================\n",
       "Omnibus:                       83.309   Durbin-Watson:                   0.286\n",
       "Prob(Omnibus):                  0.000   Jarque-Bera (JB):              511.530\n",
       "Skew:                          -2.897   Prob(JB):                    8.37e-112\n",
       "Kurtosis:                      12.509   Cond. No.                         1.00\n",
       "==============================================================================\n",
       "\n",
       "Warnings:\n",
       "[1] Standard Errors assume that the covariance matrix of the errors is correctly specified.\n",
       "\"\"\""
      ]
     },
     "execution_count": 27,
     "metadata": {},
     "output_type": "execute_result"
    }
   ],
   "source": [
    "model1.summary()"
   ]
  },
  {
   "cell_type": "code",
   "execution_count": 28,
   "metadata": {},
   "outputs": [],
   "source": [
    "temp2=c1['endinglongitude']"
   ]
  },
  {
   "cell_type": "code",
   "execution_count": 32,
   "metadata": {},
   "outputs": [
    {
     "data": {
      "text/html": [
       "<table class=\"simpletable\">\n",
       "<caption>OLS Regression Results</caption>\n",
       "<tr>\n",
       "  <th>Dep. Variable:</th>          <td>speed</td>      <th>  R-squared:         </th> <td>   0.492</td>\n",
       "</tr>\n",
       "<tr>\n",
       "  <th>Model:</th>                   <td>OLS</td>       <th>  Adj. R-squared:    </th> <td>   0.486</td>\n",
       "</tr>\n",
       "<tr>\n",
       "  <th>Method:</th>             <td>Least Squares</td>  <th>  F-statistic:       </th> <td>   94.74</td>\n",
       "</tr>\n",
       "<tr>\n",
       "  <th>Date:</th>             <td>Thu, 13 Jun 2019</td> <th>  Prob (F-statistic):</th> <td>4.59e-16</td>\n",
       "</tr>\n",
       "<tr>\n",
       "  <th>Time:</th>                 <td>16:42:40</td>     <th>  Log-Likelihood:    </th> <td> -516.23</td>\n",
       "</tr>\n",
       "<tr>\n",
       "  <th>No. Observations:</th>      <td>    99</td>      <th>  AIC:               </th> <td>   1034.</td>\n",
       "</tr>\n",
       "<tr>\n",
       "  <th>Df Residuals:</th>          <td>    98</td>      <th>  BIC:               </th> <td>   1037.</td>\n",
       "</tr>\n",
       "<tr>\n",
       "  <th>Df Model:</th>              <td>     1</td>      <th>                     </th>     <td> </td>   \n",
       "</tr>\n",
       "<tr>\n",
       "  <th>Covariance Type:</th>      <td>nonrobust</td>    <th>                     </th>     <td> </td>   \n",
       "</tr>\n",
       "</table>\n",
       "<table class=\"simpletable\">\n",
       "<tr>\n",
       "         <td></td>            <th>coef</th>     <th>std err</th>      <th>t</th>      <th>P>|t|</th>  <th>[0.025</th>    <th>0.975]</th>  \n",
       "</tr>\n",
       "<tr>\n",
       "  <th>endinglongitude</th> <td>   -0.6609</td> <td>    0.068</td> <td>   -9.733</td> <td> 0.000</td> <td>   -0.796</td> <td>   -0.526</td>\n",
       "</tr>\n",
       "</table>\n",
       "<table class=\"simpletable\">\n",
       "<tr>\n",
       "  <th>Omnibus:</th>       <td> 0.121</td> <th>  Durbin-Watson:     </th> <td>   0.778</td>\n",
       "</tr>\n",
       "<tr>\n",
       "  <th>Prob(Omnibus):</th> <td> 0.941</td> <th>  Jarque-Bera (JB):  </th> <td>  11.675</td>\n",
       "</tr>\n",
       "<tr>\n",
       "  <th>Skew:</th>          <td>-0.081</td> <th>  Prob(JB):          </th> <td> 0.00292</td>\n",
       "</tr>\n",
       "<tr>\n",
       "  <th>Kurtosis:</th>      <td> 1.325</td> <th>  Cond. No.          </th> <td>    1.00</td>\n",
       "</tr>\n",
       "</table><br/><br/>Warnings:<br/>[1] Standard Errors assume that the covariance matrix of the errors is correctly specified."
      ],
      "text/plain": [
       "<class 'statsmodels.iolib.summary.Summary'>\n",
       "\"\"\"\n",
       "                            OLS Regression Results                            \n",
       "==============================================================================\n",
       "Dep. Variable:                  speed   R-squared:                       0.492\n",
       "Model:                            OLS   Adj. R-squared:                  0.486\n",
       "Method:                 Least Squares   F-statistic:                     94.74\n",
       "Date:                Thu, 13 Jun 2019   Prob (F-statistic):           4.59e-16\n",
       "Time:                        16:42:40   Log-Likelihood:                -516.23\n",
       "No. Observations:                  99   AIC:                             1034.\n",
       "Df Residuals:                      98   BIC:                             1037.\n",
       "Df Model:                           1                                         \n",
       "Covariance Type:            nonrobust                                         \n",
       "===================================================================================\n",
       "                      coef    std err          t      P>|t|      [0.025      0.975]\n",
       "-----------------------------------------------------------------------------------\n",
       "endinglongitude    -0.6609      0.068     -9.733      0.000      -0.796      -0.526\n",
       "==============================================================================\n",
       "Omnibus:                        0.121   Durbin-Watson:                   0.778\n",
       "Prob(Omnibus):                  0.941   Jarque-Bera (JB):               11.675\n",
       "Skew:                          -0.081   Prob(JB):                      0.00292\n",
       "Kurtosis:                       1.325   Cond. No.                         1.00\n",
       "==============================================================================\n",
       "\n",
       "Warnings:\n",
       "[1] Standard Errors assume that the covariance matrix of the errors is correctly specified.\n",
       "\"\"\""
      ]
     },
     "execution_count": 32,
     "metadata": {},
     "output_type": "execute_result"
    }
   ],
   "source": [
    "model2=sm.OLS(sp,temp2).fit()\n",
    "model2.summary()"
   ]
  },
  {
   "cell_type": "code",
   "execution_count": 33,
   "metadata": {},
   "outputs": [
    {
     "data": {
      "text/html": [
       "<table class=\"simpletable\">\n",
       "<caption>OLS Regression Results</caption>\n",
       "<tr>\n",
       "  <th>Dep. Variable:</th>          <td>speed</td>      <th>  R-squared:         </th> <td>   0.260</td>\n",
       "</tr>\n",
       "<tr>\n",
       "  <th>Model:</th>                   <td>OLS</td>       <th>  Adj. R-squared:    </th> <td>   0.252</td>\n",
       "</tr>\n",
       "<tr>\n",
       "  <th>Method:</th>             <td>Least Squares</td>  <th>  F-statistic:       </th> <td>   34.39</td>\n",
       "</tr>\n",
       "<tr>\n",
       "  <th>Date:</th>             <td>Thu, 13 Jun 2019</td> <th>  Prob (F-statistic):</th> <td>6.10e-08</td>\n",
       "</tr>\n",
       "<tr>\n",
       "  <th>Time:</th>                 <td>16:42:41</td>     <th>  Log-Likelihood:    </th> <td> -534.82</td>\n",
       "</tr>\n",
       "<tr>\n",
       "  <th>No. Observations:</th>      <td>    99</td>      <th>  AIC:               </th> <td>   1072.</td>\n",
       "</tr>\n",
       "<tr>\n",
       "  <th>Df Residuals:</th>          <td>    98</td>      <th>  BIC:               </th> <td>   1074.</td>\n",
       "</tr>\n",
       "<tr>\n",
       "  <th>Df Model:</th>              <td>     1</td>      <th>                     </th>     <td> </td>   \n",
       "</tr>\n",
       "<tr>\n",
       "  <th>Covariance Type:</th>      <td>nonrobust</td>    <th>                     </th>     <td> </td>   \n",
       "</tr>\n",
       "</table>\n",
       "<table class=\"simpletable\">\n",
       "<tr>\n",
       "    <td></td>       <th>coef</th>     <th>std err</th>      <th>t</th>      <th>P>|t|</th>  <th>[0.025</th>    <th>0.975]</th>  \n",
       "</tr>\n",
       "<tr>\n",
       "  <th>width</th> <td>    0.1104</td> <td>    0.019</td> <td>    5.864</td> <td> 0.000</td> <td>    0.073</td> <td>    0.148</td>\n",
       "</tr>\n",
       "</table>\n",
       "<table class=\"simpletable\">\n",
       "<tr>\n",
       "  <th>Omnibus:</th>       <td>102.431</td> <th>  Durbin-Watson:     </th> <td>   0.377</td> \n",
       "</tr>\n",
       "<tr>\n",
       "  <th>Prob(Omnibus):</th> <td> 0.000</td>  <th>  Jarque-Bera (JB):  </th> <td>1259.864</td> \n",
       "</tr>\n",
       "<tr>\n",
       "  <th>Skew:</th>          <td>-3.432</td>  <th>  Prob(JB):          </th> <td>2.66e-274</td>\n",
       "</tr>\n",
       "<tr>\n",
       "  <th>Kurtosis:</th>      <td>19.072</td>  <th>  Cond. No.          </th> <td>    1.00</td> \n",
       "</tr>\n",
       "</table><br/><br/>Warnings:<br/>[1] Standard Errors assume that the covariance matrix of the errors is correctly specified."
      ],
      "text/plain": [
       "<class 'statsmodels.iolib.summary.Summary'>\n",
       "\"\"\"\n",
       "                            OLS Regression Results                            \n",
       "==============================================================================\n",
       "Dep. Variable:                  speed   R-squared:                       0.260\n",
       "Model:                            OLS   Adj. R-squared:                  0.252\n",
       "Method:                 Least Squares   F-statistic:                     34.39\n",
       "Date:                Thu, 13 Jun 2019   Prob (F-statistic):           6.10e-08\n",
       "Time:                        16:42:41   Log-Likelihood:                -534.82\n",
       "No. Observations:                  99   AIC:                             1072.\n",
       "Df Residuals:                      98   BIC:                             1074.\n",
       "Df Model:                           1                                         \n",
       "Covariance Type:            nonrobust                                         \n",
       "==============================================================================\n",
       "                 coef    std err          t      P>|t|      [0.025      0.975]\n",
       "------------------------------------------------------------------------------\n",
       "width          0.1104      0.019      5.864      0.000       0.073       0.148\n",
       "==============================================================================\n",
       "Omnibus:                      102.431   Durbin-Watson:                   0.377\n",
       "Prob(Omnibus):                  0.000   Jarque-Bera (JB):             1259.864\n",
       "Skew:                          -3.432   Prob(JB):                    2.66e-274\n",
       "Kurtosis:                      19.072   Cond. No.                         1.00\n",
       "==============================================================================\n",
       "\n",
       "Warnings:\n",
       "[1] Standard Errors assume that the covariance matrix of the errors is correctly specified.\n",
       "\"\"\""
      ]
     },
     "execution_count": 33,
     "metadata": {},
     "output_type": "execute_result"
    }
   ],
   "source": [
    "temp3=c1['width']\n",
    "model3=sm.OLS(sp,temp3).fit()\n",
    "model3.summary()"
   ]
  },
  {
   "cell_type": "code",
   "execution_count": 34,
   "metadata": {},
   "outputs": [
    {
     "data": {
      "text/html": [
       "<table class=\"simpletable\">\n",
       "<caption>OLS Regression Results</caption>\n",
       "<tr>\n",
       "  <th>Dep. Variable:</th>          <td>speed</td>      <th>  R-squared:         </th> <td>   0.493</td>\n",
       "</tr>\n",
       "<tr>\n",
       "  <th>Model:</th>                   <td>OLS</td>       <th>  Adj. R-squared:    </th> <td>   0.487</td>\n",
       "</tr>\n",
       "<tr>\n",
       "  <th>Method:</th>             <td>Least Squares</td>  <th>  F-statistic:       </th> <td>   95.16</td>\n",
       "</tr>\n",
       "<tr>\n",
       "  <th>Date:</th>             <td>Thu, 13 Jun 2019</td> <th>  Prob (F-statistic):</th> <td>4.12e-16</td>\n",
       "</tr>\n",
       "<tr>\n",
       "  <th>Time:</th>                 <td>16:45:09</td>     <th>  Log-Likelihood:    </th> <td> -516.12</td>\n",
       "</tr>\n",
       "<tr>\n",
       "  <th>No. Observations:</th>      <td>    99</td>      <th>  AIC:               </th> <td>   1034.</td>\n",
       "</tr>\n",
       "<tr>\n",
       "  <th>Df Residuals:</th>          <td>    98</td>      <th>  BIC:               </th> <td>   1037.</td>\n",
       "</tr>\n",
       "<tr>\n",
       "  <th>Df Model:</th>              <td>     1</td>      <th>                     </th>     <td> </td>   \n",
       "</tr>\n",
       "<tr>\n",
       "  <th>Covariance Type:</th>      <td>nonrobust</td>    <th>                     </th>     <td> </td>   \n",
       "</tr>\n",
       "</table>\n",
       "<table class=\"simpletable\">\n",
       "<tr>\n",
       "         <td></td>           <th>coef</th>     <th>std err</th>      <th>t</th>      <th>P>|t|</th>  <th>[0.025</th>    <th>0.975]</th>  \n",
       "</tr>\n",
       "<tr>\n",
       "  <th>endinglatitude</th> <td>    1.7995</td> <td>    0.184</td> <td>    9.755</td> <td> 0.000</td> <td>    1.433</td> <td>    2.166</td>\n",
       "</tr>\n",
       "</table>\n",
       "<table class=\"simpletable\">\n",
       "<tr>\n",
       "  <th>Omnibus:</th>       <td> 0.060</td> <th>  Durbin-Watson:     </th> <td>   0.794</td>\n",
       "</tr>\n",
       "<tr>\n",
       "  <th>Prob(Omnibus):</th> <td> 0.970</td> <th>  Jarque-Bera (JB):  </th> <td>  12.559</td>\n",
       "</tr>\n",
       "<tr>\n",
       "  <th>Skew:</th>          <td>-0.057</td> <th>  Prob(JB):          </th> <td> 0.00187</td>\n",
       "</tr>\n",
       "<tr>\n",
       "  <th>Kurtosis:</th>      <td> 1.259</td> <th>  Cond. No.          </th> <td>    1.00</td>\n",
       "</tr>\n",
       "</table><br/><br/>Warnings:<br/>[1] Standard Errors assume that the covariance matrix of the errors is correctly specified."
      ],
      "text/plain": [
       "<class 'statsmodels.iolib.summary.Summary'>\n",
       "\"\"\"\n",
       "                            OLS Regression Results                            \n",
       "==============================================================================\n",
       "Dep. Variable:                  speed   R-squared:                       0.493\n",
       "Model:                            OLS   Adj. R-squared:                  0.487\n",
       "Method:                 Least Squares   F-statistic:                     95.16\n",
       "Date:                Thu, 13 Jun 2019   Prob (F-statistic):           4.12e-16\n",
       "Time:                        16:45:09   Log-Likelihood:                -516.12\n",
       "No. Observations:                  99   AIC:                             1034.\n",
       "Df Residuals:                      98   BIC:                             1037.\n",
       "Df Model:                           1                                         \n",
       "Covariance Type:            nonrobust                                         \n",
       "==================================================================================\n",
       "                     coef    std err          t      P>|t|      [0.025      0.975]\n",
       "----------------------------------------------------------------------------------\n",
       "endinglatitude     1.7995      0.184      9.755      0.000       1.433       2.166\n",
       "==============================================================================\n",
       "Omnibus:                        0.060   Durbin-Watson:                   0.794\n",
       "Prob(Omnibus):                  0.970   Jarque-Bera (JB):               12.559\n",
       "Skew:                          -0.057   Prob(JB):                      0.00187\n",
       "Kurtosis:                       1.259   Cond. No.                         1.00\n",
       "==============================================================================\n",
       "\n",
       "Warnings:\n",
       "[1] Standard Errors assume that the covariance matrix of the errors is correctly specified.\n",
       "\"\"\""
      ]
     },
     "execution_count": 34,
     "metadata": {},
     "output_type": "execute_result"
    }
   ],
   "source": [
    "temp4=c1['endinglatitude']\n",
    "model4=sm.OLS(sp,temp4).fit()\n",
    "model4.summary()"
   ]
  },
  {
   "cell_type": "code",
   "execution_count": 35,
   "metadata": {},
   "outputs": [
    {
     "data": {
      "text/html": [
       "<table class=\"simpletable\">\n",
       "<caption>OLS Regression Results</caption>\n",
       "<tr>\n",
       "  <th>Dep. Variable:</th>          <td>speed</td>      <th>  R-squared:         </th> <td>   0.977</td>\n",
       "</tr>\n",
       "<tr>\n",
       "  <th>Model:</th>                   <td>OLS</td>       <th>  Adj. R-squared:    </th> <td>   0.977</td>\n",
       "</tr>\n",
       "<tr>\n",
       "  <th>Method:</th>             <td>Least Squares</td>  <th>  F-statistic:       </th> <td>   4118.</td>\n",
       "</tr>\n",
       "<tr>\n",
       "  <th>Date:</th>             <td>Thu, 13 Jun 2019</td> <th>  Prob (F-statistic):</th> <td>7.21e-82</td>\n",
       "</tr>\n",
       "<tr>\n",
       "  <th>Time:</th>                 <td>16:45:48</td>     <th>  Log-Likelihood:    </th> <td> -363.50</td>\n",
       "</tr>\n",
       "<tr>\n",
       "  <th>No. Observations:</th>      <td>    99</td>      <th>  AIC:               </th> <td>   729.0</td>\n",
       "</tr>\n",
       "<tr>\n",
       "  <th>Df Residuals:</th>          <td>    98</td>      <th>  BIC:               </th> <td>   731.6</td>\n",
       "</tr>\n",
       "<tr>\n",
       "  <th>Df Model:</th>              <td>     1</td>      <th>                     </th>     <td> </td>   \n",
       "</tr>\n",
       "<tr>\n",
       "  <th>Covariance Type:</th>      <td>nonrobust</td>    <th>                     </th>     <td> </td>   \n",
       "</tr>\n",
       "</table>\n",
       "<table class=\"simpletable\">\n",
       "<tr>\n",
       "          <td></td>            <th>coef</th>     <th>std err</th>      <th>t</th>      <th>P>|t|</th>  <th>[0.025</th>    <th>0.975]</th>  \n",
       "</tr>\n",
       "<tr>\n",
       "  <th>startinglatitude</th> <td>    1.7726</td> <td>    0.028</td> <td>   64.175</td> <td> 0.000</td> <td>    1.718</td> <td>    1.827</td>\n",
       "</tr>\n",
       "</table>\n",
       "<table class=\"simpletable\">\n",
       "<tr>\n",
       "  <th>Omnibus:</th>       <td> 0.643</td> <th>  Durbin-Watson:     </th> <td>   1.581</td>\n",
       "</tr>\n",
       "<tr>\n",
       "  <th>Prob(Omnibus):</th> <td> 0.725</td> <th>  Jarque-Bera (JB):  </th> <td>   0.585</td>\n",
       "</tr>\n",
       "<tr>\n",
       "  <th>Skew:</th>          <td>-0.184</td> <th>  Prob(JB):          </th> <td>   0.746</td>\n",
       "</tr>\n",
       "<tr>\n",
       "  <th>Kurtosis:</th>      <td> 2.919</td> <th>  Cond. No.          </th> <td>    1.00</td>\n",
       "</tr>\n",
       "</table><br/><br/>Warnings:<br/>[1] Standard Errors assume that the covariance matrix of the errors is correctly specified."
      ],
      "text/plain": [
       "<class 'statsmodels.iolib.summary.Summary'>\n",
       "\"\"\"\n",
       "                            OLS Regression Results                            \n",
       "==============================================================================\n",
       "Dep. Variable:                  speed   R-squared:                       0.977\n",
       "Model:                            OLS   Adj. R-squared:                  0.977\n",
       "Method:                 Least Squares   F-statistic:                     4118.\n",
       "Date:                Thu, 13 Jun 2019   Prob (F-statistic):           7.21e-82\n",
       "Time:                        16:45:48   Log-Likelihood:                -363.50\n",
       "No. Observations:                  99   AIC:                             729.0\n",
       "Df Residuals:                      98   BIC:                             731.6\n",
       "Df Model:                           1                                         \n",
       "Covariance Type:            nonrobust                                         \n",
       "====================================================================================\n",
       "                       coef    std err          t      P>|t|      [0.025      0.975]\n",
       "------------------------------------------------------------------------------------\n",
       "startinglatitude     1.7726      0.028     64.175      0.000       1.718       1.827\n",
       "==============================================================================\n",
       "Omnibus:                        0.643   Durbin-Watson:                   1.581\n",
       "Prob(Omnibus):                  0.725   Jarque-Bera (JB):                0.585\n",
       "Skew:                          -0.184   Prob(JB):                        0.746\n",
       "Kurtosis:                       2.919   Cond. No.                         1.00\n",
       "==============================================================================\n",
       "\n",
       "Warnings:\n",
       "[1] Standard Errors assume that the covariance matrix of the errors is correctly specified.\n",
       "\"\"\""
      ]
     },
     "execution_count": 35,
     "metadata": {},
     "output_type": "execute_result"
    }
   ],
   "source": [
    "temp5=c1['startinglatitude']\n",
    "model5=sm.OLS(sp,temp5).fit()\n",
    "model5.summary()"
   ]
  },
  {
   "cell_type": "code",
   "execution_count": 36,
   "metadata": {},
   "outputs": [
    {
     "data": {
      "text/html": [
       "<table class=\"simpletable\">\n",
       "<caption>OLS Regression Results</caption>\n",
       "<tr>\n",
       "  <th>Dep. Variable:</th>          <td>speed</td>      <th>  R-squared:         </th> <td>   0.978</td>\n",
       "</tr>\n",
       "<tr>\n",
       "  <th>Model:</th>                   <td>OLS</td>       <th>  Adj. R-squared:    </th> <td>   0.978</td>\n",
       "</tr>\n",
       "<tr>\n",
       "  <th>Method:</th>             <td>Least Squares</td>  <th>  F-statistic:       </th> <td>   4382.</td>\n",
       "</tr>\n",
       "<tr>\n",
       "  <th>Date:</th>             <td>Thu, 13 Jun 2019</td> <th>  Prob (F-statistic):</th> <td>3.68e-83</td>\n",
       "</tr>\n",
       "<tr>\n",
       "  <th>Time:</th>                 <td>16:46:54</td>     <th>  Log-Likelihood:    </th> <td> -360.49</td>\n",
       "</tr>\n",
       "<tr>\n",
       "  <th>No. Observations:</th>      <td>    99</td>      <th>  AIC:               </th> <td>   723.0</td>\n",
       "</tr>\n",
       "<tr>\n",
       "  <th>Df Residuals:</th>          <td>    98</td>      <th>  BIC:               </th> <td>   725.6</td>\n",
       "</tr>\n",
       "<tr>\n",
       "  <th>Df Model:</th>              <td>     1</td>      <th>                     </th>     <td> </td>   \n",
       "</tr>\n",
       "<tr>\n",
       "  <th>Covariance Type:</th>      <td>nonrobust</td>    <th>                     </th>     <td> </td>   \n",
       "</tr>\n",
       "</table>\n",
       "<table class=\"simpletable\">\n",
       "<tr>\n",
       "          <td></td>             <th>coef</th>     <th>std err</th>      <th>t</th>      <th>P>|t|</th>  <th>[0.025</th>    <th>0.975]</th>  \n",
       "</tr>\n",
       "<tr>\n",
       "  <th>startinglongitude</th> <td>   -0.6623</td> <td>    0.010</td> <td>  -66.199</td> <td> 0.000</td> <td>   -0.682</td> <td>   -0.642</td>\n",
       "</tr>\n",
       "</table>\n",
       "<table class=\"simpletable\">\n",
       "<tr>\n",
       "  <th>Omnibus:</th>       <td> 5.946</td> <th>  Durbin-Watson:     </th> <td>   1.496</td>\n",
       "</tr>\n",
       "<tr>\n",
       "  <th>Prob(Omnibus):</th> <td> 0.051</td> <th>  Jarque-Bera (JB):  </th> <td>   5.365</td>\n",
       "</tr>\n",
       "<tr>\n",
       "  <th>Skew:</th>          <td>-0.544</td> <th>  Prob(JB):          </th> <td>  0.0684</td>\n",
       "</tr>\n",
       "<tr>\n",
       "  <th>Kurtosis:</th>      <td> 3.345</td> <th>  Cond. No.          </th> <td>    1.00</td>\n",
       "</tr>\n",
       "</table><br/><br/>Warnings:<br/>[1] Standard Errors assume that the covariance matrix of the errors is correctly specified."
      ],
      "text/plain": [
       "<class 'statsmodels.iolib.summary.Summary'>\n",
       "\"\"\"\n",
       "                            OLS Regression Results                            \n",
       "==============================================================================\n",
       "Dep. Variable:                  speed   R-squared:                       0.978\n",
       "Model:                            OLS   Adj. R-squared:                  0.978\n",
       "Method:                 Least Squares   F-statistic:                     4382.\n",
       "Date:                Thu, 13 Jun 2019   Prob (F-statistic):           3.68e-83\n",
       "Time:                        16:46:54   Log-Likelihood:                -360.49\n",
       "No. Observations:                  99   AIC:                             723.0\n",
       "Df Residuals:                      98   BIC:                             725.6\n",
       "Df Model:                           1                                         \n",
       "Covariance Type:            nonrobust                                         \n",
       "=====================================================================================\n",
       "                        coef    std err          t      P>|t|      [0.025      0.975]\n",
       "-------------------------------------------------------------------------------------\n",
       "startinglongitude    -0.6623      0.010    -66.199      0.000      -0.682      -0.642\n",
       "==============================================================================\n",
       "Omnibus:                        5.946   Durbin-Watson:                   1.496\n",
       "Prob(Omnibus):                  0.051   Jarque-Bera (JB):                5.365\n",
       "Skew:                          -0.544   Prob(JB):                       0.0684\n",
       "Kurtosis:                       3.345   Cond. No.                         1.00\n",
       "==============================================================================\n",
       "\n",
       "Warnings:\n",
       "[1] Standard Errors assume that the covariance matrix of the errors is correctly specified.\n",
       "\"\"\""
      ]
     },
     "execution_count": 36,
     "metadata": {},
     "output_type": "execute_result"
    }
   ],
   "source": [
    "temp6=c1['startinglongitude']\n",
    "model6=sm.OLS(sp,temp6).fit()\n",
    "model6.summary()"
   ]
  },
  {
   "cell_type": "code",
   "execution_count": 37,
   "metadata": {},
   "outputs": [
    {
     "data": {
      "text/html": [
       "<table class=\"simpletable\">\n",
       "<caption>OLS Regression Results</caption>\n",
       "<tr>\n",
       "  <th>Dep. Variable:</th>          <td>speed</td>      <th>  R-squared:         </th> <td>   0.762</td>\n",
       "</tr>\n",
       "<tr>\n",
       "  <th>Model:</th>                   <td>OLS</td>       <th>  Adj. R-squared:    </th> <td>   0.760</td>\n",
       "</tr>\n",
       "<tr>\n",
       "  <th>Method:</th>             <td>Least Squares</td>  <th>  F-statistic:       </th> <td>   314.0</td>\n",
       "</tr>\n",
       "<tr>\n",
       "  <th>Date:</th>             <td>Thu, 13 Jun 2019</td> <th>  Prob (F-statistic):</th> <td>2.52e-32</td>\n",
       "</tr>\n",
       "<tr>\n",
       "  <th>Time:</th>                 <td>16:47:49</td>     <th>  Log-Likelihood:    </th> <td> -478.62</td>\n",
       "</tr>\n",
       "<tr>\n",
       "  <th>No. Observations:</th>      <td>    99</td>      <th>  AIC:               </th> <td>   959.2</td>\n",
       "</tr>\n",
       "<tr>\n",
       "  <th>Df Residuals:</th>          <td>    98</td>      <th>  BIC:               </th> <td>   961.8</td>\n",
       "</tr>\n",
       "<tr>\n",
       "  <th>Df Model:</th>              <td>     1</td>      <th>                     </th>     <td> </td>   \n",
       "</tr>\n",
       "<tr>\n",
       "  <th>Covariance Type:</th>      <td>nonrobust</td>    <th>                     </th>     <td> </td>   \n",
       "</tr>\n",
       "</table>\n",
       "<table class=\"simpletable\">\n",
       "<tr>\n",
       "        <td></td>          <th>coef</th>     <th>std err</th>      <th>t</th>      <th>P>|t|</th>  <th>[0.025</th>    <th>0.975]</th>  \n",
       "</tr>\n",
       "<tr>\n",
       "  <th>temperature1</th> <td>    8.6540</td> <td>    0.488</td> <td>   17.721</td> <td> 0.000</td> <td>    7.685</td> <td>    9.623</td>\n",
       "</tr>\n",
       "</table>\n",
       "<table class=\"simpletable\">\n",
       "<tr>\n",
       "  <th>Omnibus:</th>       <td> 4.246</td> <th>  Durbin-Watson:     </th> <td>   0.167</td>\n",
       "</tr>\n",
       "<tr>\n",
       "  <th>Prob(Omnibus):</th> <td> 0.120</td> <th>  Jarque-Bera (JB):  </th> <td>   3.725</td>\n",
       "</tr>\n",
       "<tr>\n",
       "  <th>Skew:</th>          <td>-0.387</td> <th>  Prob(JB):          </th> <td>   0.155</td>\n",
       "</tr>\n",
       "<tr>\n",
       "  <th>Kurtosis:</th>      <td> 2.450</td> <th>  Cond. No.          </th> <td>    1.00</td>\n",
       "</tr>\n",
       "</table><br/><br/>Warnings:<br/>[1] Standard Errors assume that the covariance matrix of the errors is correctly specified."
      ],
      "text/plain": [
       "<class 'statsmodels.iolib.summary.Summary'>\n",
       "\"\"\"\n",
       "                            OLS Regression Results                            \n",
       "==============================================================================\n",
       "Dep. Variable:                  speed   R-squared:                       0.762\n",
       "Model:                            OLS   Adj. R-squared:                  0.760\n",
       "Method:                 Least Squares   F-statistic:                     314.0\n",
       "Date:                Thu, 13 Jun 2019   Prob (F-statistic):           2.52e-32\n",
       "Time:                        16:47:49   Log-Likelihood:                -478.62\n",
       "No. Observations:                  99   AIC:                             959.2\n",
       "Df Residuals:                      98   BIC:                             961.8\n",
       "Df Model:                           1                                         \n",
       "Covariance Type:            nonrobust                                         \n",
       "================================================================================\n",
       "                   coef    std err          t      P>|t|      [0.025      0.975]\n",
       "--------------------------------------------------------------------------------\n",
       "temperature1     8.6540      0.488     17.721      0.000       7.685       9.623\n",
       "==============================================================================\n",
       "Omnibus:                        4.246   Durbin-Watson:                   0.167\n",
       "Prob(Omnibus):                  0.120   Jarque-Bera (JB):                3.725\n",
       "Skew:                          -0.387   Prob(JB):                        0.155\n",
       "Kurtosis:                       2.450   Cond. No.                         1.00\n",
       "==============================================================================\n",
       "\n",
       "Warnings:\n",
       "[1] Standard Errors assume that the covariance matrix of the errors is correctly specified.\n",
       "\"\"\""
      ]
     },
     "execution_count": 37,
     "metadata": {},
     "output_type": "execute_result"
    }
   ],
   "source": [
    "temp7=c1['temperature1']\n",
    "model7=sm.OLS(sp,temp7).fit()\n",
    "model7.summary()"
   ]
  },
  {
   "cell_type": "code",
   "execution_count": 38,
   "metadata": {},
   "outputs": [
    {
     "data": {
      "text/html": [
       "<table class=\"simpletable\">\n",
       "<caption>OLS Regression Results</caption>\n",
       "<tr>\n",
       "  <th>Dep. Variable:</th>          <td>speed</td>      <th>  R-squared:         </th> <td>   0.646</td>\n",
       "</tr>\n",
       "<tr>\n",
       "  <th>Model:</th>                   <td>OLS</td>       <th>  Adj. R-squared:    </th> <td>   0.642</td>\n",
       "</tr>\n",
       "<tr>\n",
       "  <th>Method:</th>             <td>Least Squares</td>  <th>  F-statistic:       </th> <td>   178.7</td>\n",
       "</tr>\n",
       "<tr>\n",
       "  <th>Date:</th>             <td>Thu, 13 Jun 2019</td> <th>  Prob (F-statistic):</th> <td>8.09e-24</td>\n",
       "</tr>\n",
       "<tr>\n",
       "  <th>Time:</th>                 <td>16:48:19</td>     <th>  Log-Likelihood:    </th> <td> -498.32</td>\n",
       "</tr>\n",
       "<tr>\n",
       "  <th>No. Observations:</th>      <td>    99</td>      <th>  AIC:               </th> <td>   998.6</td>\n",
       "</tr>\n",
       "<tr>\n",
       "  <th>Df Residuals:</th>          <td>    98</td>      <th>  BIC:               </th> <td>   1001.</td>\n",
       "</tr>\n",
       "<tr>\n",
       "  <th>Df Model:</th>              <td>     1</td>      <th>                     </th>     <td> </td>   \n",
       "</tr>\n",
       "<tr>\n",
       "  <th>Covariance Type:</th>      <td>nonrobust</td>    <th>                     </th>     <td> </td>   \n",
       "</tr>\n",
       "</table>\n",
       "<table class=\"simpletable\">\n",
       "<tr>\n",
       "        <td></td>          <th>coef</th>     <th>std err</th>      <th>t</th>      <th>P>|t|</th>  <th>[0.025</th>    <th>0.975]</th>  \n",
       "</tr>\n",
       "<tr>\n",
       "  <th>temperature2</th> <td>    6.7999</td> <td>    0.509</td> <td>   13.369</td> <td> 0.000</td> <td>    5.790</td> <td>    7.809</td>\n",
       "</tr>\n",
       "</table>\n",
       "<table class=\"simpletable\">\n",
       "<tr>\n",
       "  <th>Omnibus:</th>       <td> 3.211</td> <th>  Durbin-Watson:     </th> <td>   0.141</td>\n",
       "</tr>\n",
       "<tr>\n",
       "  <th>Prob(Omnibus):</th> <td> 0.201</td> <th>  Jarque-Bera (JB):  </th> <td>   2.029</td>\n",
       "</tr>\n",
       "<tr>\n",
       "  <th>Skew:</th>          <td> 0.116</td> <th>  Prob(JB):          </th> <td>   0.363</td>\n",
       "</tr>\n",
       "<tr>\n",
       "  <th>Kurtosis:</th>      <td> 2.338</td> <th>  Cond. No.          </th> <td>    1.00</td>\n",
       "</tr>\n",
       "</table><br/><br/>Warnings:<br/>[1] Standard Errors assume that the covariance matrix of the errors is correctly specified."
      ],
      "text/plain": [
       "<class 'statsmodels.iolib.summary.Summary'>\n",
       "\"\"\"\n",
       "                            OLS Regression Results                            \n",
       "==============================================================================\n",
       "Dep. Variable:                  speed   R-squared:                       0.646\n",
       "Model:                            OLS   Adj. R-squared:                  0.642\n",
       "Method:                 Least Squares   F-statistic:                     178.7\n",
       "Date:                Thu, 13 Jun 2019   Prob (F-statistic):           8.09e-24\n",
       "Time:                        16:48:19   Log-Likelihood:                -498.32\n",
       "No. Observations:                  99   AIC:                             998.6\n",
       "Df Residuals:                      98   BIC:                             1001.\n",
       "Df Model:                           1                                         \n",
       "Covariance Type:            nonrobust                                         \n",
       "================================================================================\n",
       "                   coef    std err          t      P>|t|      [0.025      0.975]\n",
       "--------------------------------------------------------------------------------\n",
       "temperature2     6.7999      0.509     13.369      0.000       5.790       7.809\n",
       "==============================================================================\n",
       "Omnibus:                        3.211   Durbin-Watson:                   0.141\n",
       "Prob(Omnibus):                  0.201   Jarque-Bera (JB):                2.029\n",
       "Skew:                           0.116   Prob(JB):                        0.363\n",
       "Kurtosis:                       2.338   Cond. No.                         1.00\n",
       "==============================================================================\n",
       "\n",
       "Warnings:\n",
       "[1] Standard Errors assume that the covariance matrix of the errors is correctly specified.\n",
       "\"\"\""
      ]
     },
     "execution_count": 38,
     "metadata": {},
     "output_type": "execute_result"
    }
   ],
   "source": [
    "temp8=c1['temperature2']\n",
    "model8=sm.OLS(sp,temp8).fit()\n",
    "model8.summary()"
   ]
  },
  {
   "cell_type": "code",
   "execution_count": 42,
   "metadata": {},
   "outputs": [
    {
     "data": {
      "text/html": [
       "<table class=\"simpletable\">\n",
       "<caption>OLS Regression Results</caption>\n",
       "<tr>\n",
       "  <th>Dep. Variable:</th>          <td>speed</td>      <th>  R-squared:         </th> <td>   0.334</td>\n",
       "</tr>\n",
       "<tr>\n",
       "  <th>Model:</th>                   <td>OLS</td>       <th>  Adj. R-squared:    </th> <td>   0.327</td>\n",
       "</tr>\n",
       "<tr>\n",
       "  <th>Method:</th>             <td>Least Squares</td>  <th>  F-statistic:       </th> <td>   49.16</td>\n",
       "</tr>\n",
       "<tr>\n",
       "  <th>Date:</th>             <td>Thu, 13 Jun 2019</td> <th>  Prob (F-statistic):</th> <td>3.05e-10</td>\n",
       "</tr>\n",
       "<tr>\n",
       "  <th>Time:</th>                 <td>16:49:55</td>     <th>  Log-Likelihood:    </th> <td> -529.58</td>\n",
       "</tr>\n",
       "<tr>\n",
       "  <th>No. Observations:</th>      <td>    99</td>      <th>  AIC:               </th> <td>   1061.</td>\n",
       "</tr>\n",
       "<tr>\n",
       "  <th>Df Residuals:</th>          <td>    98</td>      <th>  BIC:               </th> <td>   1064.</td>\n",
       "</tr>\n",
       "<tr>\n",
       "  <th>Df Model:</th>              <td>     1</td>      <th>                     </th>     <td> </td>   \n",
       "</tr>\n",
       "<tr>\n",
       "  <th>Covariance Type:</th>      <td>nonrobust</td>    <th>                     </th>     <td> </td>   \n",
       "</tr>\n",
       "</table>\n",
       "<table class=\"simpletable\">\n",
       "<tr>\n",
       "        <td></td>           <th>coef</th>     <th>std err</th>      <th>t</th>      <th>P>|t|</th>  <th>[0.025</th>    <th>0.975]</th>  \n",
       "</tr>\n",
       "<tr>\n",
       "  <th>dewpointtemp1</th> <td>  -18.3617</td> <td>    2.619</td> <td>   -7.011</td> <td> 0.000</td> <td>  -23.559</td> <td>  -13.165</td>\n",
       "</tr>\n",
       "</table>\n",
       "<table class=\"simpletable\">\n",
       "<tr>\n",
       "  <th>Omnibus:</th>       <td> 9.270</td> <th>  Durbin-Watson:     </th> <td>   0.105</td>\n",
       "</tr>\n",
       "<tr>\n",
       "  <th>Prob(Omnibus):</th> <td> 0.010</td> <th>  Jarque-Bera (JB):  </th> <td>   4.499</td>\n",
       "</tr>\n",
       "<tr>\n",
       "  <th>Skew:</th>          <td> 0.292</td> <th>  Prob(JB):          </th> <td>   0.105</td>\n",
       "</tr>\n",
       "<tr>\n",
       "  <th>Kurtosis:</th>      <td> 2.134</td> <th>  Cond. No.          </th> <td>    1.00</td>\n",
       "</tr>\n",
       "</table><br/><br/>Warnings:<br/>[1] Standard Errors assume that the covariance matrix of the errors is correctly specified."
      ],
      "text/plain": [
       "<class 'statsmodels.iolib.summary.Summary'>\n",
       "\"\"\"\n",
       "                            OLS Regression Results                            \n",
       "==============================================================================\n",
       "Dep. Variable:                  speed   R-squared:                       0.334\n",
       "Model:                            OLS   Adj. R-squared:                  0.327\n",
       "Method:                 Least Squares   F-statistic:                     49.16\n",
       "Date:                Thu, 13 Jun 2019   Prob (F-statistic):           3.05e-10\n",
       "Time:                        16:49:55   Log-Likelihood:                -529.58\n",
       "No. Observations:                  99   AIC:                             1061.\n",
       "Df Residuals:                      98   BIC:                             1064.\n",
       "Df Model:                           1                                         \n",
       "Covariance Type:            nonrobust                                         \n",
       "=================================================================================\n",
       "                    coef    std err          t      P>|t|      [0.025      0.975]\n",
       "---------------------------------------------------------------------------------\n",
       "dewpointtemp1   -18.3617      2.619     -7.011      0.000     -23.559     -13.165\n",
       "==============================================================================\n",
       "Omnibus:                        9.270   Durbin-Watson:                   0.105\n",
       "Prob(Omnibus):                  0.010   Jarque-Bera (JB):                4.499\n",
       "Skew:                           0.292   Prob(JB):                        0.105\n",
       "Kurtosis:                       2.134   Cond. No.                         1.00\n",
       "==============================================================================\n",
       "\n",
       "Warnings:\n",
       "[1] Standard Errors assume that the covariance matrix of the errors is correctly specified.\n",
       "\"\"\""
      ]
     },
     "execution_count": 42,
     "metadata": {},
     "output_type": "execute_result"
    }
   ],
   "source": [
    "temp9=c1['dewpointtemp1']\n",
    "model9=sm.OLS(sp,temp9).fit()\n",
    "model9.summary()"
   ]
  },
  {
   "cell_type": "code",
   "execution_count": 45,
   "metadata": {},
   "outputs": [
    {
     "data": {
      "text/html": [
       "<table class=\"simpletable\">\n",
       "<caption>OLS Regression Results</caption>\n",
       "<tr>\n",
       "  <th>Dep. Variable:</th>          <td>speed</td>      <th>  R-squared:         </th> <td>   0.918</td>\n",
       "</tr>\n",
       "<tr>\n",
       "  <th>Model:</th>                   <td>OLS</td>       <th>  Adj. R-squared:    </th> <td>   0.918</td>\n",
       "</tr>\n",
       "<tr>\n",
       "  <th>Method:</th>             <td>Least Squares</td>  <th>  F-statistic:       </th> <td>   1103.</td>\n",
       "</tr>\n",
       "<tr>\n",
       "  <th>Date:</th>             <td>Thu, 13 Jun 2019</td> <th>  Prob (F-statistic):</th> <td>3.99e-55</td>\n",
       "</tr>\n",
       "<tr>\n",
       "  <th>Time:</th>                 <td>16:51:56</td>     <th>  Log-Likelihood:    </th> <td> -425.67</td>\n",
       "</tr>\n",
       "<tr>\n",
       "  <th>No. Observations:</th>      <td>    99</td>      <th>  AIC:               </th> <td>   853.3</td>\n",
       "</tr>\n",
       "<tr>\n",
       "  <th>Df Residuals:</th>          <td>    98</td>      <th>  BIC:               </th> <td>   855.9</td>\n",
       "</tr>\n",
       "<tr>\n",
       "  <th>Df Model:</th>              <td>     1</td>      <th>                     </th>     <td> </td>   \n",
       "</tr>\n",
       "<tr>\n",
       "  <th>Covariance Type:</th>      <td>nonrobust</td>    <th>                     </th>     <td> </td>   \n",
       "</tr>\n",
       "</table>\n",
       "<table class=\"simpletable\">\n",
       "<tr>\n",
       "          <td></td>            <th>coef</th>     <th>std err</th>      <th>t</th>      <th>P>|t|</th>  <th>[0.025</th>    <th>0.975]</th>  \n",
       "</tr>\n",
       "<tr>\n",
       "  <th>relativehumidity</th> <td>   92.0259</td> <td>    2.771</td> <td>   33.207</td> <td> 0.000</td> <td>   86.526</td> <td>   97.525</td>\n",
       "</tr>\n",
       "</table>\n",
       "<table class=\"simpletable\">\n",
       "<tr>\n",
       "  <th>Omnibus:</th>       <td>16.276</td> <th>  Durbin-Watson:     </th> <td>   0.458</td>\n",
       "</tr>\n",
       "<tr>\n",
       "  <th>Prob(Omnibus):</th> <td> 0.000</td> <th>  Jarque-Bera (JB):  </th> <td>  20.391</td>\n",
       "</tr>\n",
       "<tr>\n",
       "  <th>Skew:</th>          <td>-0.846</td> <th>  Prob(JB):          </th> <td>3.73e-05</td>\n",
       "</tr>\n",
       "<tr>\n",
       "  <th>Kurtosis:</th>      <td> 4.442</td> <th>  Cond. No.          </th> <td>    1.00</td>\n",
       "</tr>\n",
       "</table><br/><br/>Warnings:<br/>[1] Standard Errors assume that the covariance matrix of the errors is correctly specified."
      ],
      "text/plain": [
       "<class 'statsmodels.iolib.summary.Summary'>\n",
       "\"\"\"\n",
       "                            OLS Regression Results                            \n",
       "==============================================================================\n",
       "Dep. Variable:                  speed   R-squared:                       0.918\n",
       "Model:                            OLS   Adj. R-squared:                  0.918\n",
       "Method:                 Least Squares   F-statistic:                     1103.\n",
       "Date:                Thu, 13 Jun 2019   Prob (F-statistic):           3.99e-55\n",
       "Time:                        16:51:56   Log-Likelihood:                -425.67\n",
       "No. Observations:                  99   AIC:                             853.3\n",
       "Df Residuals:                      98   BIC:                             855.9\n",
       "Df Model:                           1                                         \n",
       "Covariance Type:            nonrobust                                         \n",
       "====================================================================================\n",
       "                       coef    std err          t      P>|t|      [0.025      0.975]\n",
       "------------------------------------------------------------------------------------\n",
       "relativehumidity    92.0259      2.771     33.207      0.000      86.526      97.525\n",
       "==============================================================================\n",
       "Omnibus:                       16.276   Durbin-Watson:                   0.458\n",
       "Prob(Omnibus):                  0.000   Jarque-Bera (JB):               20.391\n",
       "Skew:                          -0.846   Prob(JB):                     3.73e-05\n",
       "Kurtosis:                       4.442   Cond. No.                         1.00\n",
       "==============================================================================\n",
       "\n",
       "Warnings:\n",
       "[1] Standard Errors assume that the covariance matrix of the errors is correctly specified.\n",
       "\"\"\""
      ]
     },
     "execution_count": 45,
     "metadata": {},
     "output_type": "execute_result"
    }
   ],
   "source": [
    "temp10=c1['relativehumidity']\n",
    "model10=sm.OLS(sp,temp10).fit()\n",
    "model10.summary()"
   ]
  },
  {
   "cell_type": "code",
   "execution_count": 46,
   "metadata": {},
   "outputs": [
    {
     "data": {
      "text/html": [
       "<table class=\"simpletable\">\n",
       "<caption>OLS Regression Results</caption>\n",
       "<tr>\n",
       "  <th>Dep. Variable:</th>          <td>speed</td>      <th>  R-squared:         </th> <td>   0.750</td>\n",
       "</tr>\n",
       "<tr>\n",
       "  <th>Model:</th>                   <td>OLS</td>       <th>  Adj. R-squared:    </th> <td>   0.747</td>\n",
       "</tr>\n",
       "<tr>\n",
       "  <th>Method:</th>             <td>Least Squares</td>  <th>  F-statistic:       </th> <td>   294.0</td>\n",
       "</tr>\n",
       "<tr>\n",
       "  <th>Date:</th>             <td>Thu, 13 Jun 2019</td> <th>  Prob (F-statistic):</th> <td>2.93e-31</td>\n",
       "</tr>\n",
       "<tr>\n",
       "  <th>Time:</th>                 <td>16:52:36</td>     <th>  Log-Likelihood:    </th> <td> -481.09</td>\n",
       "</tr>\n",
       "<tr>\n",
       "  <th>No. Observations:</th>      <td>    99</td>      <th>  AIC:               </th> <td>   964.2</td>\n",
       "</tr>\n",
       "<tr>\n",
       "  <th>Df Residuals:</th>          <td>    98</td>      <th>  BIC:               </th> <td>   966.8</td>\n",
       "</tr>\n",
       "<tr>\n",
       "  <th>Df Model:</th>              <td>     1</td>      <th>                     </th>     <td> </td>   \n",
       "</tr>\n",
       "<tr>\n",
       "  <th>Covariance Type:</th>      <td>nonrobust</td>    <th>                     </th>     <td> </td>   \n",
       "</tr>\n",
       "</table>\n",
       "<table class=\"simpletable\">\n",
       "<tr>\n",
       "    <td></td>       <th>coef</th>     <th>std err</th>      <th>t</th>      <th>P>|t|</th>  <th>[0.025</th>    <th>0.975]</th>  \n",
       "</tr>\n",
       "<tr>\n",
       "  <th>hours</th> <td>    3.6568</td> <td>    0.213</td> <td>   17.145</td> <td> 0.000</td> <td>    3.234</td> <td>    4.080</td>\n",
       "</tr>\n",
       "</table>\n",
       "<table class=\"simpletable\">\n",
       "<tr>\n",
       "  <th>Omnibus:</th>       <td> 6.202</td> <th>  Durbin-Watson:     </th> <td>   1.105</td>\n",
       "</tr>\n",
       "<tr>\n",
       "  <th>Prob(Omnibus):</th> <td> 0.045</td> <th>  Jarque-Bera (JB):  </th> <td>   4.616</td>\n",
       "</tr>\n",
       "<tr>\n",
       "  <th>Skew:</th>          <td> 0.403</td> <th>  Prob(JB):          </th> <td>  0.0995</td>\n",
       "</tr>\n",
       "<tr>\n",
       "  <th>Kurtosis:</th>      <td> 2.314</td> <th>  Cond. No.          </th> <td>    1.00</td>\n",
       "</tr>\n",
       "</table><br/><br/>Warnings:<br/>[1] Standard Errors assume that the covariance matrix of the errors is correctly specified."
      ],
      "text/plain": [
       "<class 'statsmodels.iolib.summary.Summary'>\n",
       "\"\"\"\n",
       "                            OLS Regression Results                            \n",
       "==============================================================================\n",
       "Dep. Variable:                  speed   R-squared:                       0.750\n",
       "Model:                            OLS   Adj. R-squared:                  0.747\n",
       "Method:                 Least Squares   F-statistic:                     294.0\n",
       "Date:                Thu, 13 Jun 2019   Prob (F-statistic):           2.93e-31\n",
       "Time:                        16:52:36   Log-Likelihood:                -481.09\n",
       "No. Observations:                  99   AIC:                             964.2\n",
       "Df Residuals:                      98   BIC:                             966.8\n",
       "Df Model:                           1                                         \n",
       "Covariance Type:            nonrobust                                         \n",
       "==============================================================================\n",
       "                 coef    std err          t      P>|t|      [0.025      0.975]\n",
       "------------------------------------------------------------------------------\n",
       "hours          3.6568      0.213     17.145      0.000       3.234       4.080\n",
       "==============================================================================\n",
       "Omnibus:                        6.202   Durbin-Watson:                   1.105\n",
       "Prob(Omnibus):                  0.045   Jarque-Bera (JB):                4.616\n",
       "Skew:                           0.403   Prob(JB):                       0.0995\n",
       "Kurtosis:                       2.314   Cond. No.                         1.00\n",
       "==============================================================================\n",
       "\n",
       "Warnings:\n",
       "[1] Standard Errors assume that the covariance matrix of the errors is correctly specified.\n",
       "\"\"\""
      ]
     },
     "execution_count": 46,
     "metadata": {},
     "output_type": "execute_result"
    }
   ],
   "source": [
    "temp11=c1['hours']\n",
    "model11=sm.OLS(sp,temp11).fit()\n",
    "model11.summary()"
   ]
  },
  {
   "cell_type": "markdown",
   "metadata": {},
   "source": [
    "# splitting data and finding accuracy"
   ]
  },
  {
   "cell_type": "markdown",
   "metadata": {},
   "source": [
    "# linear regression"
   ]
  },
  {
   "cell_type": "code",
   "execution_count": 927,
   "metadata": {},
   "outputs": [],
   "source": [
    "#split the datta into training set and test set\n",
    "from sklearn.model_selection import train_test_split\n",
    "x=c1['hours']\n",
    "y=c1['speed']"
   ]
  },
  {
   "cell_type": "code",
   "execution_count": 928,
   "metadata": {},
   "outputs": [],
   "source": [
    "x_train,x_test,y_train,y_test=train_test_split(x,y,test_size=0.2,random_state=1)"
   ]
  },
  {
   "cell_type": "code",
   "execution_count": 929,
   "metadata": {},
   "outputs": [],
   "source": [
    "x_train=x_train.values.reshape((-1,1))"
   ]
  },
  {
   "cell_type": "code",
   "execution_count": 1016,
   "metadata": {},
   "outputs": [],
   "source": [
    "from sklearn import linear_model as lm\n",
    "model=lm.LinearRegression()\n",
    "results=model.fit(x_train,y_train)"
   ]
  },
  {
   "cell_type": "code",
   "execution_count": 1017,
   "metadata": {},
   "outputs": [
    {
     "name": "stdout",
     "output_type": "stream",
     "text": [
      "Accuracy of the model: 0.09580914094574144\n"
     ]
    }
   ],
   "source": [
    "accuracy=model.score(x_train,y_train)\n",
    "print('Accuracy of the model:',accuracy)"
   ]
  },
  {
   "cell_type": "code",
   "execution_count": 1018,
   "metadata": {},
   "outputs": [],
   "source": [
    "x_test=x_test.reshape((-1,1))"
   ]
  },
  {
   "cell_type": "code",
   "execution_count": 1019,
   "metadata": {},
   "outputs": [
    {
     "name": "stdout",
     "output_type": "stream",
     "text": [
      "predicted speed:\n",
      "[67.24197286 65.62603855 59.5662849  59.97026848 57.95035059 62.39416994\n",
      " 58.75831775 57.95035059 59.5662849  58.35433417 62.79815352 59.5662849\n",
      " 64.41408782 58.75831775 61.18221921 61.99018636 59.97026848 61.18221921\n",
      " 59.5662849  57.95035059]\n"
     ]
    }
   ],
   "source": [
    "predictions=model.predict(x_test)\n",
    "print('predicted speed:',predictions,sep='\\n')"
   ]
  },
  {
   "cell_type": "code",
   "execution_count": 1020,
   "metadata": {},
   "outputs": [
    {
     "data": {
      "text/plain": [
       "<matplotlib.collections.PathCollection at 0x223b2e91e10>"
      ]
     },
     "execution_count": 1020,
     "metadata": {},
     "output_type": "execute_result"
    },
    {
     "data": {
      "image/png": "[encoded data removed]",
      "text/plain": [
       "<Figure size 432x288 with 1 Axes>"
      ]
     },
     "metadata": {
      "needs_background": "light"
     },
     "output_type": "display_data"
    }
   ],
   "source": [
    "plt.scatter(y_test,predictions)"
   ]
  },
  {
   "cell_type": "code",
   "execution_count": 1021,
   "metadata": {},
   "outputs": [],
   "source": [
    "xnew=[[23]]"
   ]
  },
  {
   "cell_type": "code",
   "execution_count": 1022,
   "metadata": {},
   "outputs": [
    {
     "data": {
      "text/plain": [
       "array([57.95035059])"
      ]
     },
     "execution_count": 1022,
     "metadata": {},
     "output_type": "execute_result"
    }
   ],
   "source": [
    "ynew=model.predict(xnew)\n",
    "ynew"
   ]
  },
  {
   "cell_type": "code",
   "execution_count": 1023,
   "metadata": {},
   "outputs": [],
   "source": [
    "xnew=[[1]]"
   ]
  },
  {
   "cell_type": "code",
   "execution_count": 1024,
   "metadata": {},
   "outputs": [
    {
     "data": {
      "text/plain": [
       "array([66.83798928])"
      ]
     },
     "execution_count": 1024,
     "metadata": {},
     "output_type": "execute_result"
    }
   ],
   "source": [
    "ynew=model.predict(xnew)\n",
    "ynew"
   ]
  },
  {
   "cell_type": "markdown",
   "metadata": {},
   "source": [
    "# plotting boxplots for hours vs speed"
   ]
  },
  {
   "cell_type": "code",
   "execution_count": 1025,
   "metadata": {},
   "outputs": [
    {
     "data": {
      "text/plain": [
       "<matplotlib.axes._subplots.AxesSubplot at 0x223b3ea1668>"
      ]
     },
     "execution_count": 1025,
     "metadata": {},
     "output_type": "execute_result"
    },
    {
     "data": {
      "image/png": "[encoded data removed]",
      "text/plain": [
       "<Figure size 432x288 with 1 Axes>"
      ]
     },
     "metadata": {
      "needs_background": "light"
     },
     "output_type": "display_data"
    }
   ],
   "source": [
    "c1.boxplot(column='hours' ,by ='speed')"
   ]
  },
  {
   "cell_type": "code",
   "execution_count": 1026,
   "metadata": {},
   "outputs": [],
   "source": [
    "x1=c1['length']\n",
    "y1=c1['speed']"
   ]
  },
  {
   "cell_type": "code",
   "execution_count": 1027,
   "metadata": {},
   "outputs": [],
   "source": [
    "x1_train,x1_test,y1_train,y1_test=train_test_split(x1,y1,test_size=0.2,random_state=1)"
   ]
  },
  {
   "cell_type": "code",
   "execution_count": 1029,
   "metadata": {},
   "outputs": [],
   "source": [
    "x1_train=x1_train.values.reshape((-1,1))"
   ]
  },
  {
   "cell_type": "code",
   "execution_count": 1030,
   "metadata": {},
   "outputs": [],
   "source": [
    "mod1=lm.LinearRegression()\n",
    "res1=mod1.fit(x1_train,y1_train)"
   ]
  },
  {
   "cell_type": "code",
   "execution_count": 1031,
   "metadata": {},
   "outputs": [
    {
     "name": "stdout",
     "output_type": "stream",
     "text": [
      "Accuracy of the model: 7.806470500026919e-07\n"
     ]
    }
   ],
   "source": [
    "acc1=mod1.score(x1_train,y1_train)\n",
    "print('Accuracy of the model:',acc1)"
   ]
  },
  {
   "cell_type": "markdown",
   "metadata": {},
   "source": [
    "# predicting the values"
   ]
  },
  {
   "cell_type": "code",
   "execution_count": 1713,
   "metadata": {},
   "outputs": [],
   "source": [
    "xnew1=[[9.5]]"
   ]
  },
  {
   "cell_type": "code",
   "execution_count": 1714,
   "metadata": {},
   "outputs": [
    {
     "data": {
      "text/plain": [
       "array([62.21445305])"
      ]
     },
     "execution_count": 1714,
     "metadata": {},
     "output_type": "execute_result"
    }
   ],
   "source": [
    "ynew1=mod1.predict(xnew1)\n",
    "ynew1"
   ]
  },
  {
   "cell_type": "code",
   "execution_count": 1717,
   "metadata": {},
   "outputs": [],
   "source": [
    "xnew2=[[170]]"
   ]
  },
  {
   "cell_type": "code",
   "execution_count": 1718,
   "metadata": {},
   "outputs": [
    {
     "data": {
      "text/plain": [
       "array([62.13717752])"
      ]
     },
     "execution_count": 1718,
     "metadata": {},
     "output_type": "execute_result"
    }
   ],
   "source": [
    "ynew2=mod1.predict(xnew2)\n",
    "ynew2"
   ]
  },
  {
   "cell_type": "markdown",
   "metadata": {},
   "source": [
    "# predicting the speed by giving various values of lengths.It has been predicting that for less length the speed is more compared to higher length"
   ]
  },
  {
   "cell_type": "code",
   "execution_count": 978,
   "metadata": {},
   "outputs": [
    {
     "data": {
      "text/plain": [
       "<matplotlib.axes._subplots.AxesSubplot at 0x223b2106710>"
      ]
     },
     "execution_count": 978,
     "metadata": {},
     "output_type": "execute_result"
    },
    {
     "data": {
      "image/png": "[encoded data removed]",
      "text/plain": [
       "<Figure size 432x288 with 1 Axes>"
      ]
     },
     "metadata": {
      "needs_background": "light"
     },
     "output_type": "display_data"
    }
   ],
   "source": [
    "c1.boxplot(column='length' ,by ='speed')"
   ]
  },
  {
   "cell_type": "markdown",
   "metadata": {},
   "source": [
    "# multi linear regression"
   ]
  },
  {
   "cell_type": "code",
   "execution_count": 956,
   "metadata": {},
   "outputs": [],
   "source": [
    "x2=c1[['startinglatitude','hours']]\n",
    "y2=c1['speed']"
   ]
  },
  {
   "cell_type": "code",
   "execution_count": 957,
   "metadata": {},
   "outputs": [],
   "source": [
    "x2_train,x2_test,y2_train,y2_test=train_test_split(x2,y2,test_size=0.1,random_state=1)"
   ]
  },
  {
   "cell_type": "code",
   "execution_count": 958,
   "metadata": {},
   "outputs": [],
   "source": [
    "x2_train=x2_train.values.reshape((-1,2))"
   ]
  },
  {
   "cell_type": "code",
   "execution_count": 959,
   "metadata": {},
   "outputs": [],
   "source": [
    "from sklearn.linear_model import LinearRegression\n",
    "lm = LinearRegression()"
   ]
  },
  {
   "cell_type": "code",
   "execution_count": 960,
   "metadata": {},
   "outputs": [
    {
     "data": {
      "text/plain": [
       "LinearRegression(copy_X=True, fit_intercept=True, n_jobs=None,\n",
       "         normalize=False)"
      ]
     },
     "execution_count": 960,
     "metadata": {},
     "output_type": "execute_result"
    }
   ],
   "source": [
    "lm.fit(x2_train, y2_train)"
   ]
  },
  {
   "cell_type": "code",
   "execution_count": 961,
   "metadata": {},
   "outputs": [
    {
     "name": "stdout",
     "output_type": "stream",
     "text": [
      "Accuracy of the model: 0.17661813335103704\n"
     ]
    }
   ],
   "source": [
    "acc2=lm.score(x2_train,y2_train)\n",
    "print('Accuracy of the model:',acc2)"
   ]
  },
  {
   "cell_type": "code",
   "execution_count": 988,
   "metadata": {},
   "outputs": [
    {
     "name": "stdout",
     "output_type": "stream",
     "text": [
      "intercept: 36.997855655185\n"
     ]
    }
   ],
   "source": [
    "print('intercept:',lm.intercept_)"
   ]
  },
  {
   "cell_type": "code",
   "execution_count": 989,
   "metadata": {},
   "outputs": [
    {
     "name": "stdout",
     "output_type": "stream",
     "text": [
      "slope: [ 0.93512149 -0.56759976]\n"
     ]
    }
   ],
   "source": [
    "print('slope:',lm.coef_)"
   ]
  },
  {
   "cell_type": "code",
   "execution_count": 998,
   "metadata": {},
   "outputs": [],
   "source": [
    "x2_test=x2_test.values.reshape((-1,2))"
   ]
  },
  {
   "cell_type": "code",
   "execution_count": 999,
   "metadata": {},
   "outputs": [
    {
     "name": "stdout",
     "output_type": "stream",
     "text": [
      "predicted speed:\n",
      "[73.65461816 75.29302695 58.1198055  60.72597012 59.50573149 59.92352197\n",
      " 57.78881046 57.71964944 62.89827633 62.27086676]\n"
     ]
    }
   ],
   "source": [
    "predictions2=lm.predict(x2_test)\n",
    "print('predicted speed:',predictions2,sep='\\n')"
   ]
  },
  {
   "cell_type": "code",
   "execution_count": 1000,
   "metadata": {},
   "outputs": [
    {
     "name": "stdout",
     "output_type": "stream",
     "text": [
      "slope: [ 0.93512149 -0.56759976]\n",
      "intercept 36.997855655185\n",
      "\n",
      "\n",
      "the model performance for training dataset\n",
      "-------------------------------------------\n",
      "RMSE is 5.9425570809766315\n",
      "R2 score is -0.13586312835849146\n",
      "\n",
      "\n"
     ]
    }
   ],
   "source": [
    "#evaluating the model\n",
    "from sklearn.metrics import mean_squared_error,r2_score\n",
    "#printing values\n",
    "print('slope:',lm.coef_)\n",
    "print('intercept',lm.intercept_)\n",
    "print('\\n')\n",
    "import numpy as np\n",
    "rmse=(np.sqrt(mean_squared_error(y2_test,predictions2)))\n",
    "r2=r2_score(y2_test,predictions2)\n",
    "print(\"the model performance for training dataset\")\n",
    "print(\"-------------------------------------------\")\n",
    "print('RMSE is {}'.format(rmse))\n",
    "print('R2 score is {}'.format(r2))\n",
    "print('\\n')"
   ]
  },
  {
   "cell_type": "code",
   "execution_count": 967,
   "metadata": {},
   "outputs": [],
   "source": [
    "x3=c1[['solarradiation','hours']]\n",
    "y3=c1['speed']"
   ]
  },
  {
   "cell_type": "code",
   "execution_count": 968,
   "metadata": {},
   "outputs": [],
   "source": [
    "x3_train,x3_test,y3_train,y3_test=train_test_split(x3,y3,test_size=0.1,random_state=1)"
   ]
  },
  {
   "cell_type": "code",
   "execution_count": 969,
   "metadata": {},
   "outputs": [],
   "source": [
    "x3_train=x3_train.values.reshape((-1,2))"
   ]
  },
  {
   "cell_type": "code",
   "execution_count": 970,
   "metadata": {},
   "outputs": [
    {
     "data": {
      "text/plain": [
       "LinearRegression(copy_X=True, fit_intercept=True, n_jobs=None,\n",
       "         normalize=False)"
      ]
     },
     "execution_count": 970,
     "metadata": {},
     "output_type": "execute_result"
    }
   ],
   "source": [
    "lm3 = LinearRegression()\n",
    "lm3.fit(x3_train, y3_train)"
   ]
  },
  {
   "cell_type": "code",
   "execution_count": 971,
   "metadata": {},
   "outputs": [
    {
     "name": "stdout",
     "output_type": "stream",
     "text": [
      "Accuracy of the model: 0.13875007777607862\n"
     ]
    }
   ],
   "source": [
    "acc3=lm3.score(x3_train,y3_train)\n",
    "print('Accuracy of the model:',acc3)"
   ]
  },
  {
   "cell_type": "code",
   "execution_count": 987,
   "metadata": {},
   "outputs": [
    {
     "name": "stdout",
     "output_type": "stream",
     "text": [
      "intercept: 65.39032714876453\n"
     ]
    }
   ],
   "source": [
    "print('intercept:',lm3.intercept_)"
   ]
  },
  {
   "cell_type": "code",
   "execution_count": 986,
   "metadata": {},
   "outputs": [
    {
     "name": "stdout",
     "output_type": "stream",
     "text": [
      "slope: [ 0.01101074 -0.38621748]\n"
     ]
    }
   ],
   "source": [
    "print('slope:',lm3.coef_)"
   ]
  },
  {
   "cell_type": "code",
   "execution_count": 995,
   "metadata": {},
   "outputs": [],
   "source": [
    "x3_test=x3_test.values.reshape((-1,2))"
   ]
  },
  {
   "cell_type": "code",
   "execution_count": 996,
   "metadata": {},
   "outputs": [
    {
     "name": "stdout",
     "output_type": "stream",
     "text": [
      "predicted speed:\n",
      "[65.39032715 66.23698979 59.93833462 60.35538217 56.50732506 62.85326319\n",
      " 64.92561737 61.32672564 59.19841294 56.89354254]\n"
     ]
    }
   ],
   "source": [
    "predictions3=lm3.predict(x3_test)\n",
    "print('predicted speed:',predictions3,sep='\\n')"
   ]
  },
  {
   "cell_type": "code",
   "execution_count": 997,
   "metadata": {},
   "outputs": [
    {
     "name": "stdout",
     "output_type": "stream",
     "text": [
      "slope: [ 0.01101074 -0.38621748]\n",
      "intercept 65.39032714876453\n",
      "\n",
      "\n",
      "the model performance for training dataset\n",
      "-------------------------------------------\n",
      "RMSE is 6.069520951179356\n",
      "R2 score is -0.1849174839757206\n",
      "\n",
      "\n"
     ]
    }
   ],
   "source": [
    "#evaluating the model\n",
    "from sklearn.metrics import mean_squared_error,r2_score\n",
    "#printing values\n",
    "print('slope:',lm3.coef_)\n",
    "print('intercept',lm3.intercept_)\n",
    "print('\\n')\n",
    "import numpy as np\n",
    "rmse=(np.sqrt(mean_squared_error(y3_test,predictions3)))\n",
    "r2=r2_score(y3_test,predictions3)\n",
    "print(\"the model performance for training dataset\")\n",
    "print(\"-------------------------------------------\")\n",
    "print('RMSE is {}'.format(rmse))\n",
    "print('R2 score is {}'.format(r2))\n",
    "print('\\n')"
   ]
  },
  {
   "cell_type": "code",
   "execution_count": 972,
   "metadata": {},
   "outputs": [],
   "source": [
    "x4=c1[['relativehumidity','hours']]\n",
    "y4=c1['speed']"
   ]
  },
  {
   "cell_type": "code",
   "execution_count": 973,
   "metadata": {},
   "outputs": [],
   "source": [
    "x4_train,x4_test,y4_train,y4_test=train_test_split(x4,y4,test_size=0.1,random_state=1)"
   ]
  },
  {
   "cell_type": "code",
   "execution_count": 974,
   "metadata": {},
   "outputs": [],
   "source": [
    "x4_train=x4_train.values.reshape((-1,2))"
   ]
  },
  {
   "cell_type": "code",
   "execution_count": 975,
   "metadata": {},
   "outputs": [
    {
     "data": {
      "text/plain": [
       "LinearRegression(copy_X=True, fit_intercept=True, n_jobs=None,\n",
       "         normalize=False)"
      ]
     },
     "execution_count": 975,
     "metadata": {},
     "output_type": "execute_result"
    }
   ],
   "source": [
    "lm4 = LinearRegression()\n",
    "lm4.fit(x4_train, y4_train)"
   ]
  },
  {
   "cell_type": "code",
   "execution_count": 976,
   "metadata": {},
   "outputs": [
    {
     "name": "stdout",
     "output_type": "stream",
     "text": [
      "Accuracy of the model: 0.1129418498664363\n"
     ]
    }
   ],
   "source": [
    "acc4=lm4.score(x4_train,y4_train)\n",
    "print('Accuracy of the model:',acc4)"
   ]
  },
  {
   "cell_type": "code",
   "execution_count": 984,
   "metadata": {},
   "outputs": [
    {
     "name": "stdout",
     "output_type": "stream",
     "text": [
      "intercept: 73.27010753172299\n"
     ]
    }
   ],
   "source": [
    "print('intercept:',lm4.intercept_)"
   ]
  },
  {
   "cell_type": "code",
   "execution_count": 985,
   "metadata": {},
   "outputs": [
    {
     "name": "stdout",
     "output_type": "stream",
     "text": [
      "slope: [-10.9395537   -0.35194633]\n"
     ]
    }
   ],
   "source": [
    "print('slope:',lm4.coef_)"
   ]
  },
  {
   "cell_type": "code",
   "execution_count": 990,
   "metadata": {},
   "outputs": [],
   "source": [
    "x4_test=x4_test.values.reshape((-1,2))"
   ]
  },
  {
   "cell_type": "code",
   "execution_count": 992,
   "metadata": {},
   "outputs": [
    {
     "name": "stdout",
     "output_type": "stream",
     "text": [
      "predicted speed:\n",
      "[67.14395746 64.64221677 59.69120846 59.71496818 57.29886332 62.2642283\n",
      " 60.19066671 59.26798298 59.36302185 59.51053377]\n"
     ]
    }
   ],
   "source": [
    "predictions4=lm4.predict(x4_test)\n",
    "print('predicted speed:',predictions4,sep='\\n')"
   ]
  },
  {
   "cell_type": "code",
   "execution_count": 994,
   "metadata": {},
   "outputs": [
    {
     "name": "stdout",
     "output_type": "stream",
     "text": [
      "slope: [-10.9395537   -0.35194633]\n",
      "intercept 73.27010753172299\n",
      "\n",
      "\n",
      "the model performance for training dataset\n",
      "-------------------------------------------\n",
      "RMSE is 4.731845348355636\n",
      "R2 score is 0.27982115147137776\n",
      "\n",
      "\n"
     ]
    }
   ],
   "source": [
    "#evaluating the model\n",
    "from sklearn.metrics import mean_squared_error,r2_score\n",
    "#printing values\n",
    "print('slope:',lm4.coef_)\n",
    "print('intercept',lm4.intercept_)\n",
    "print('\\n')\n",
    "import numpy as np\n",
    "rmse=(np.sqrt(mean_squared_error(y4_test,predictions4)))\n",
    "r2=r2_score(y4_test,predictions4)\n",
    "print(\"the model performance for training dataset\")\n",
    "print(\"-------------------------------------------\")\n",
    "print('RMSE is {}'.format(rmse))\n",
    "print('R2 score is {}'.format(r2))\n",
    "print('\\n')"
   ]
  },
  {
   "cell_type": "code",
   "execution_count": 1672,
   "metadata": {},
   "outputs": [],
   "source": [
    "x5=c1[['startinglatitude','endinglatitude','hours']]\n",
    "y5=c1['speed']"
   ]
  },
  {
   "cell_type": "code",
   "execution_count": 1673,
   "metadata": {},
   "outputs": [],
   "source": [
    "x5_train,x5_test,y5_train,y5_test=train_test_split(x5,y5,test_size=0.1,random_state=1)"
   ]
  },
  {
   "cell_type": "code",
   "execution_count": 1674,
   "metadata": {},
   "outputs": [],
   "source": [
    "x5_train=x5_train.values.reshape((-1,3))"
   ]
  },
  {
   "cell_type": "code",
   "execution_count": 1675,
   "metadata": {},
   "outputs": [
    {
     "data": {
      "text/plain": [
       "LinearRegression(copy_X=True, fit_intercept=True, n_jobs=None,\n",
       "         normalize=False)"
      ]
     },
     "execution_count": 1675,
     "metadata": {},
     "output_type": "execute_result"
    }
   ],
   "source": [
    "lm5 = LinearRegression()\n",
    "lm5.fit(x5_train, y5_train)"
   ]
  },
  {
   "cell_type": "code",
   "execution_count": 1676,
   "metadata": {},
   "outputs": [
    {
     "name": "stdout",
     "output_type": "stream",
     "text": [
      "Accuracy of the model: 0.19290289717655806\n"
     ]
    }
   ],
   "source": [
    "acc5=lm5.score(x5_train,y5_train)\n",
    "print('Accuracy of the model:',acc5)"
   ]
  },
  {
   "cell_type": "code",
   "execution_count": 1678,
   "metadata": {},
   "outputs": [],
   "source": [
    "x5_test=x5_test.values.reshape((-1,3))"
   ]
  },
  {
   "cell_type": "code",
   "execution_count": 1679,
   "metadata": {},
   "outputs": [
    {
     "name": "stdout",
     "output_type": "stream",
     "text": [
      "predicted speed:\n",
      "[72.83052681 74.48674733 59.23089976 59.65156967 60.8988972  60.9157269\n",
      " 58.93947316 58.93558622 64.40620756 63.83017138]\n"
     ]
    }
   ],
   "source": [
    "predictions5=lm5.predict(x5_test)\n",
    "print('predicted speed:',predictions5,sep='\\n')"
   ]
  },
  {
   "cell_type": "code",
   "execution_count": 1680,
   "metadata": {},
   "outputs": [
    {
     "name": "stdout",
     "output_type": "stream",
     "text": [
      "slope: [ 0.95034314  0.06498052 -0.57905345]\n",
      "intercept 35.577075862163696\n",
      "\n",
      "\n",
      "the model performance for training dataset\n",
      "-------------------------------------------\n",
      "RMSE is 5.526951180220035\n",
      "R2 score is 0.01745933262992494\n",
      "\n",
      "\n"
     ]
    }
   ],
   "source": [
    "#evaluating the model\n",
    "from sklearn.metrics import mean_squared_error,r2_score\n",
    "#printing values\n",
    "print('slope:',lm5.coef_)\n",
    "print('intercept',lm5.intercept_)\n",
    "print('\\n')\n",
    "import numpy as np\n",
    "rmse=(np.sqrt(mean_squared_error(y5_test,predictions5)))\n",
    "r2=r2_score(y5_test,predictions5)\n",
    "print(\"the model performance for training dataset\")\n",
    "print(\"-------------------------------------------\")\n",
    "print('RMSE is {}'.format(rmse))\n",
    "print('R2 score is {}'.format(r2))\n",
    "print('\\n')"
   ]
  },
  {
   "cell_type": "code",
   "execution_count": 1682,
   "metadata": {},
   "outputs": [],
   "source": [
    "x6=c1[['endinglongitude','endinglatitude','hours']]\n",
    "y6=c1['speed']"
   ]
  },
  {
   "cell_type": "code",
   "execution_count": 1683,
   "metadata": {},
   "outputs": [],
   "source": [
    "x6_train,x6_test,y6_train,y6_test=train_test_split(x6,y6,test_size=0.1,random_state=1)"
   ]
  },
  {
   "cell_type": "code",
   "execution_count": 1684,
   "metadata": {},
   "outputs": [],
   "source": [
    "x6_train=x6_train.values.reshape((-1,3))"
   ]
  },
  {
   "cell_type": "code",
   "execution_count": 1685,
   "metadata": {},
   "outputs": [
    {
     "data": {
      "text/plain": [
       "LinearRegression(copy_X=True, fit_intercept=True, n_jobs=None,\n",
       "         normalize=False)"
      ]
     },
     "execution_count": 1685,
     "metadata": {},
     "output_type": "execute_result"
    }
   ],
   "source": [
    "lm6= LinearRegression()\n",
    "lm6.fit(x6_train, y6_train)"
   ]
  },
  {
   "cell_type": "code",
   "execution_count": 1686,
   "metadata": {},
   "outputs": [
    {
     "name": "stdout",
     "output_type": "stream",
     "text": [
      "Accuracy of the model: 0.1807952472634201\n"
     ]
    }
   ],
   "source": [
    "acc6=lm6.score(x6_train,y6_train)\n",
    "print('Accuracy of the model:',acc6)"
   ]
  },
  {
   "cell_type": "code",
   "execution_count": 1687,
   "metadata": {},
   "outputs": [],
   "source": [
    "x6_test=x6_test.values.reshape((-1,3))"
   ]
  },
  {
   "cell_type": "code",
   "execution_count": 1688,
   "metadata": {},
   "outputs": [
    {
     "name": "stdout",
     "output_type": "stream",
     "text": [
      "predicted speed:\n",
      "[66.45102537 64.80419539 60.59884203 59.04029047 61.30956075 60.07332546\n",
      " 61.20005851 59.10107019 63.92976088 65.06206516]\n"
     ]
    }
   ],
   "source": [
    "predictions6=lm6.predict(x6_test)\n",
    "print('predicted speed:',predictions6,sep='\\n')"
   ]
  },
  {
   "cell_type": "code",
   "execution_count": 1689,
   "metadata": {},
   "outputs": [
    {
     "name": "stdout",
     "output_type": "stream",
     "text": [
      "slope: [ 0.40182954  1.14487724 -0.41170749]\n",
      "intercept 66.45102537170187\n",
      "\n",
      "\n",
      "the model performance for training dataset\n",
      "-------------------------------------------\n",
      "RMSE is 4.362094725858799\n",
      "R2 score is 0.3879745771191654\n",
      "\n",
      "\n"
     ]
    }
   ],
   "source": [
    "#evaluating the model\n",
    "from sklearn.metrics import mean_squared_error,r2_score\n",
    "#printing values\n",
    "print('slope:',lm6.coef_)\n",
    "print('intercept',lm6.intercept_)\n",
    "print('\\n')\n",
    "import numpy as np\n",
    "rmse=(np.sqrt(mean_squared_error(y6_test,predictions6)))\n",
    "r2=r2_score(y6_test,predictions6)\n",
    "print(\"the model performance for training dataset\")\n",
    "print(\"-------------------------------------------\")\n",
    "print('RMSE is {}'.format(rmse))\n",
    "print('R2 score is {}'.format(r2))\n",
    "print('\\n')"
   ]
  },
  {
   "cell_type": "code",
   "execution_count": 1691,
   "metadata": {},
   "outputs": [],
   "source": [
    "x7=c1[['dewpointtemp1','solarradiation','hours']]\n",
    "y7=c1['speed']"
   ]
  },
  {
   "cell_type": "code",
   "execution_count": 1692,
   "metadata": {},
   "outputs": [],
   "source": [
    "x7_train,x7_test,y7_train,y7_test=train_test_split(x7,y7,test_size=0.1,random_state=1)"
   ]
  },
  {
   "cell_type": "code",
   "execution_count": 1693,
   "metadata": {},
   "outputs": [],
   "source": [
    "x7_train=x7_train.values.reshape((-1,3))"
   ]
  },
  {
   "cell_type": "code",
   "execution_count": 1694,
   "metadata": {},
   "outputs": [
    {
     "data": {
      "text/plain": [
       "LinearRegression(copy_X=True, fit_intercept=True, n_jobs=None,\n",
       "         normalize=False)"
      ]
     },
     "execution_count": 1694,
     "metadata": {},
     "output_type": "execute_result"
    }
   ],
   "source": [
    "lm7= LinearRegression()\n",
    "lm7.fit(x7_train, y7_train)"
   ]
  },
  {
   "cell_type": "code",
   "execution_count": 1695,
   "metadata": {},
   "outputs": [
    {
     "name": "stdout",
     "output_type": "stream",
     "text": [
      "Accuracy of the model: 0.1619138879299079\n"
     ]
    }
   ],
   "source": [
    "acc7=lm7.score(x7_train,y7_train)\n",
    "print('Accuracy of the model:',acc7)"
   ]
  },
  {
   "cell_type": "code",
   "execution_count": 1696,
   "metadata": {},
   "outputs": [],
   "source": [
    "x7_test=x7_test.values.reshape((-1,3))"
   ]
  },
  {
   "cell_type": "code",
   "execution_count": 1697,
   "metadata": {},
   "outputs": [
    {
     "name": "stdout",
     "output_type": "stream",
     "text": [
      "predicted speed:\n",
      "[67.50081011 65.32308099 61.51895635 60.50051013 56.97099367 62.78497297\n",
      " 66.05694918 61.96029409 59.43444916 58.57296628]\n"
     ]
    }
   ],
   "source": [
    "predictions7=lm7.predict(x7_test)\n",
    "print('predicted speed:',predictions7,sep='\\n')"
   ]
  },
  {
   "cell_type": "code",
   "execution_count": 1698,
   "metadata": {},
   "outputs": [
    {
     "name": "stdout",
     "output_type": "stream",
     "text": [
      "slope: [-0.85718416  0.01316145 -0.40191479]\n",
      "intercept 64.41494713330204\n",
      "\n",
      "\n",
      "the model performance for training dataset\n",
      "-------------------------------------------\n",
      "RMSE is 5.752533314670626\n",
      "R2 score is -0.06438210152445856\n",
      "\n",
      "\n"
     ]
    }
   ],
   "source": [
    "#evaluating the model\n",
    "from sklearn.metrics import mean_squared_error,r2_score\n",
    "#printing values\n",
    "print('slope:',lm7.coef_)\n",
    "print('intercept',lm7.intercept_)\n",
    "print('\\n')\n",
    "import numpy as np\n",
    "rmse=(np.sqrt(mean_squared_error(y7_test,predictions7)))\n",
    "r2=r2_score(y7_test,predictions7)\n",
    "print(\"the model performance for training dataset\")\n",
    "print(\"-------------------------------------------\")\n",
    "print('RMSE is {}'.format(rmse))\n",
    "print('R2 score is {}'.format(r2))\n",
    "print('\\n')"
   ]
  },
  {
   "cell_type": "code",
   "execution_count": null,
   "metadata": {},
   "outputs": [],
   "source": []
  }
 ],
 "metadata": {
  "kernelspec": {
   "display_name": "Python 3",
   "language": "python",
   "name": "python3"
  },
  "language_info": {
   "codemirror_mode": {
    "name": "ipython",
    "version": 3
   },
   "file_extension": ".py",
   "mimetype": "text/x-python",
   "name": "python",
   "nbconvert_exporter": "python",
   "pygments_lexer": "ipython3",
   "version": "3.7.1"
  }
 },
 "nbformat": 4,
 "nbformat_minor": 2
}
